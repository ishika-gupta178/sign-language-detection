{
  "nbformat": 4,
  "nbformat_minor": 0,
  "metadata": {
    "colab": {
      "provenance": [],
      "authorship_tag": "ABX9TyO2KCh1DeMXwEyastgZXSja",
      "include_colab_link": true
    },
    "kernelspec": {
      "name": "python3",
      "display_name": "Python 3"
    },
    "language_info": {
      "name": "python"
    }
  },
  "cells": [
    {
      "cell_type": "markdown",
      "metadata": {
        "id": "view-in-github",
        "colab_type": "text"
      },
      "source": [
        "<a href=\"https://colab.research.google.com/github/ishika-gupta178/sign-language-detection/blob/main/Copy_of_project_sign_language_detection_through_deep_learning.ipynb\" target=\"_parent\"><img src=\"https://colab.research.google.com/assets/colab-badge.svg\" alt=\"Open In Colab\"/></a>"
      ]
    },
    {
      "cell_type": "code",
      "execution_count": null,
      "metadata": {
        "colab": {
          "base_uri": "https://localhost:8080/"
        },
        "id": "5XXAfO85T7XE",
        "outputId": "1cc3590e-0444-409f-ed70-adb7e267f311"
      },
      "outputs": [
        {
          "output_type": "stream",
          "name": "stdout",
          "text": [
            "Cloning into 'WLASL'...\n",
            "remote: Enumerating objects: 228, done.\u001b[K\n",
            "remote: Counting objects: 100% (51/51), done.\u001b[K\n",
            "remote: Compressing objects: 100% (36/36), done.\u001b[K\n",
            "remote: Total 228 (delta 24), reused 15 (delta 15), pack-reused 177\u001b[K\n",
            "Receiving objects: 100% (228/228), 3.73 MiB | 17.70 MiB/s, done.\n",
            "Resolving deltas: 100% (93/93), done.\n"
          ]
        }
      ],
      "source": [
        "!git clone https://github.com/dxli94/WLASL.git"
      ]
    },
    {
      "cell_type": "code",
      "source": [
        "import os\n",
        "import json\n",
        "import time\n",
        "import sys\n",
        "import urllib.request\n",
        "from multiprocessing.dummy import Pool\n",
        "\n",
        "import random\n",
        "\n",
        "import logging\n",
        "logging.basicConfig(filename='download_{}.log'.format(int(time.time())), filemode='w', level=logging.DEBUG)\n",
        "logging.getLogger().addHandler(logging.StreamHandler(sys.stdout))\n",
        "\n",
        "\n",
        "def request_video(url, referer=''):\n",
        "    user_agent = 'Mozilla/5.0 (Windows; U; Windows NT 5.1; en-US; rv:1.9.0.7) Gecko/2009021910 Firefox/3.0.7'\n",
        "\n",
        "    headers = {'User-Agent': user_agent,\n",
        "               }\n",
        "    \n",
        "    if referer:\n",
        "        headers['Referer'] = referer\n",
        "\n",
        "    request = urllib.request.Request(url, None, headers)  # The assembled request\n",
        "\n",
        "    logging.info('Requesting {}'.format(url))\n",
        "    response = urllib.request.urlopen(request)\n",
        "    data = response.read()  # The data you need\n",
        "\n",
        "    return data\n",
        "\n",
        "\n",
        "def save_video(data, saveto):\n",
        "    with open(saveto, 'wb+') as f:\n",
        "        f.write(data)\n",
        "\n",
        "    # please be nice to the host - take pauses and avoid spamming\n",
        "    time.sleep(random.uniform(0.5, 1.5))\n",
        "\n",
        "\n",
        "def download_youtube(url, dirname, video_id):\n",
        "    raise NotImplementedError(\"Urllib cannot deal with YouTube links.\")\n",
        "\n",
        "\n",
        "def download_aslpro(url, dirname, video_id):\n",
        "    saveto = os.path.join(dirname, '{}.swf'.format(video_id))\n",
        "    if os.path.exists(saveto):\n",
        "        logging.info('{} exists at {}'.format(video_id, saveto))\n",
        "        return \n",
        "\n",
        "    data = request_video(url, referer='http://www.aslpro.com/cgi-bin/aslpro/aslpro.cgi')\n",
        "    save_video(data, saveto)\n",
        "\n",
        "\n",
        "def download_others(url, dirname, video_id):\n",
        "    saveto = os.path.join(dirname, '{}.mp4'.format(video_id))\n",
        "    if os.path.exists(saveto):\n",
        "        logging.info('{} exists at {}'.format(video_id, saveto))\n",
        "        return \n",
        "    \n",
        "    data = request_video(url)\n",
        "    save_video(data, saveto)\n",
        "\n",
        "\n",
        "def select_download_method(url):\n",
        "    if 'aslpro' in url:\n",
        "        return download_aslpro\n",
        "    elif 'youtube' in url or 'youtu.be' in url:\n",
        "        return download_youtube\n",
        "    else:\n",
        "        return download_others\n",
        "\n",
        "\n",
        "def download_nonyt_videos(indexfile, saveto='raw_videos'):\n",
        "    content = json.load(open(indexfile))\n",
        "\n",
        "    if not os.path.exists(saveto):\n",
        "        os.mkdir(saveto)\n",
        "\n",
        "    for entry in content:\n",
        "        gloss = entry['gloss']\n",
        "        instances = entry['instances']\n",
        "\n",
        "        for inst in instances:\n",
        "            video_url = inst['url']\n",
        "            video_id = inst['video_id']\n",
        "            \n",
        "            logging.info('gloss: {}, video: {}.'.format(gloss, video_id))\n",
        "\n",
        "            download_method = select_download_method(video_url)    \n",
        "            \n",
        "            if download_method == download_youtube:\n",
        "                logging.warning('Skipping YouTube video {}'.format(video_id))\n",
        "                continue\n",
        "\n",
        "            try:\n",
        "                download_method(video_url, saveto, video_id)\n",
        "            except Exception as e:\n",
        "                logging.error('Unsuccessful downloading - video {}'.format(video_id))\n",
        "\n",
        "\n",
        "def check_youtube_dl_version():\n",
        "    ver = os.popen('youtube-dl --version').read()\n",
        "\n",
        "    assert ver, \"youtube-dl cannot be found in PATH. Please verify your installation.\"\n",
        "    assert ver >= '2020.03.08', \"Please update youtube-dl to newest version.\"\n",
        "\n",
        "\n",
        "def download_yt_videos(indexfile, saveto='raw_videos'):\n",
        "    content = json.load(open(indexfile))\n",
        "    \n",
        "    if not os.path.exists(saveto):\n",
        "        os.mkdir(saveto)\n",
        "    \n",
        "    for entry in content:\n",
        "        gloss = entry['gloss']\n",
        "        instances = entry['instances']\n",
        "\n",
        "        for inst in instances:\n",
        "            video_url = inst['url']\n",
        "            video_id = inst['video_id']\n",
        "\n",
        "            if 'youtube' not in video_url and 'youtu.be' not in video_url:\n",
        "                continue\n",
        "\n",
        "            if os.path.exists(os.path.join(saveto, video_url[-11:] + '.mp4')) or os.path.exists(os.path.join(saveto, video_url[-11:] + '.mkv')):\n",
        "                logging.info('YouTube videos {} already exists.'.format(video_url))\n",
        "                continue\n",
        "            else:\n",
        "                cmd = \"youtube-dl \\\"{}\\\" -o \\\"{}%(id)s.%(ext)s\\\"\"\n",
        "                cmd = cmd.format(video_url, saveto + os.path.sep)\n",
        "\n",
        "                rv = os.system(cmd)\n",
        "                \n",
        "                if not rv:\n",
        "                    logging.info('Finish downloading youtube video url {}'.format(video_url))\n",
        "                else:\n",
        "                    logging.error('Unsuccessful downloading - youtube video url {}'.format(video_url))\n",
        "\n",
        "                # please be nice to the host - take pauses and avoid spamming\n",
        "                time.sleep(random.uniform(1.0, 1.5))\n",
        "    \n",
        "\n",
        "if __name__ == '__main__':\n",
        "    logging.info('Start downloading non-youtube videos.')\n",
        "    download_nonyt_videos('/content/WLASL/start_kit/WLASL_v0.3.json')\n",
        "\n",
        "    check_youtube_dl_version()\n",
        "    logging.info('Start downloading youtube videos.')\n",
        "    download_yt_videos('/content/WLASL/start_kit/WLASL_v0.3.json')\n",
        "\n"
      ],
      "metadata": {
        "colab": {
          "base_uri": "https://localhost:8080/",
          "height": 1000
        },
        "id": "MRjQ-3MuUaUv",
        "outputId": "87fb5870-6dff-4705-9163-10588ff44ac3"
      },
      "execution_count": null,
      "outputs": [
        {
          "output_type": "stream",
          "name": "stderr",
          "text": [
            "ERROR:root:Unsuccessful downloading - video 65225\n"
          ]
        },
        {
          "output_type": "stream",
          "name": "stdout",
          "text": [
            "Unsuccessful downloading - video 65225\n",
            "Unsuccessful downloading - video 65225\n"
          ]
        },
        {
          "output_type": "stream",
          "name": "stderr",
          "text": [
            "WARNING:root:Skipping YouTube video 68011\n"
          ]
        },
        {
          "output_type": "stream",
          "name": "stdout",
          "text": [
            "Skipping YouTube video 68011\n",
            "Skipping YouTube video 68011\n"
          ]
        },
        {
          "output_type": "stream",
          "name": "stderr",
          "text": [
            "WARNING:root:Skipping YouTube video 68208\n"
          ]
        },
        {
          "output_type": "stream",
          "name": "stdout",
          "text": [
            "Skipping YouTube video 68208\n",
            "Skipping YouTube video 68208\n"
          ]
        },
        {
          "output_type": "stream",
          "name": "stderr",
          "text": [
            "WARNING:root:Skipping YouTube video 68012\n"
          ]
        },
        {
          "output_type": "stream",
          "name": "stdout",
          "text": [
            "Skipping YouTube video 68012\n",
            "Skipping YouTube video 68012\n"
          ]
        },
        {
          "output_type": "stream",
          "name": "stderr",
          "text": [
            "WARNING:root:Skipping YouTube video 70212\n"
          ]
        },
        {
          "output_type": "stream",
          "name": "stdout",
          "text": [
            "Skipping YouTube video 70212\n",
            "Skipping YouTube video 70212\n"
          ]
        },
        {
          "output_type": "stream",
          "name": "stderr",
          "text": [
            "WARNING:root:Skipping YouTube video 70266\n"
          ]
        },
        {
          "output_type": "stream",
          "name": "stdout",
          "text": [
            "Skipping YouTube video 70266\n",
            "Skipping YouTube video 70266\n"
          ]
        },
        {
          "output_type": "stream",
          "name": "stderr",
          "text": [
            "ERROR:root:Unsuccessful downloading - video 07071\n"
          ]
        },
        {
          "output_type": "stream",
          "name": "stdout",
          "text": [
            "Unsuccessful downloading - video 07071\n",
            "Unsuccessful downloading - video 07071\n"
          ]
        },
        {
          "output_type": "stream",
          "name": "stderr",
          "text": [
            "ERROR:root:Unsuccessful downloading - video 07072\n"
          ]
        },
        {
          "output_type": "stream",
          "name": "stdout",
          "text": [
            "Unsuccessful downloading - video 07072\n",
            "Unsuccessful downloading - video 07072\n"
          ]
        },
        {
          "output_type": "stream",
          "name": "stderr",
          "text": [
            "ERROR:root:Unsuccessful downloading - video 07073\n"
          ]
        },
        {
          "output_type": "stream",
          "name": "stdout",
          "text": [
            "Unsuccessful downloading - video 07073\n",
            "Unsuccessful downloading - video 07073\n"
          ]
        },
        {
          "output_type": "stream",
          "name": "stderr",
          "text": [
            "WARNING:root:Skipping YouTube video 67424\n"
          ]
        },
        {
          "output_type": "stream",
          "name": "stdout",
          "text": [
            "Skipping YouTube video 67424\n",
            "Skipping YouTube video 67424\n"
          ]
        },
        {
          "output_type": "stream",
          "name": "stderr",
          "text": [
            "WARNING:root:Skipping YouTube video 07075\n"
          ]
        },
        {
          "output_type": "stream",
          "name": "stdout",
          "text": [
            "Skipping YouTube video 07075\n",
            "Skipping YouTube video 07075\n"
          ]
        },
        {
          "output_type": "stream",
          "name": "stderr",
          "text": [
            "WARNING:root:Skipping YouTube video 07076\n"
          ]
        },
        {
          "output_type": "stream",
          "name": "stdout",
          "text": [
            "Skipping YouTube video 07076\n",
            "Skipping YouTube video 07076\n"
          ]
        },
        {
          "output_type": "stream",
          "name": "stderr",
          "text": [
            "ERROR:root:Unsuccessful downloading - video 65539\n"
          ]
        },
        {
          "output_type": "stream",
          "name": "stdout",
          "text": [
            "Unsuccessful downloading - video 65539\n",
            "Unsuccessful downloading - video 65539\n"
          ]
        },
        {
          "output_type": "stream",
          "name": "stderr",
          "text": [
            "WARNING:root:Skipping YouTube video 70173\n"
          ]
        },
        {
          "output_type": "stream",
          "name": "stdout",
          "text": [
            "Skipping YouTube video 70173\n",
            "Skipping YouTube video 70173\n"
          ]
        },
        {
          "output_type": "stream",
          "name": "stderr",
          "text": [
            "WARNING:root:Skipping YouTube video 68538\n"
          ]
        },
        {
          "output_type": "stream",
          "name": "stdout",
          "text": [
            "Skipping YouTube video 68538\n",
            "Skipping YouTube video 68538\n"
          ]
        },
        {
          "output_type": "stream",
          "name": "stderr",
          "text": [
            "WARNING:root:Skipping YouTube video 68042\n"
          ]
        },
        {
          "output_type": "stream",
          "name": "stdout",
          "text": [
            "Skipping YouTube video 68042\n",
            "Skipping YouTube video 68042\n"
          ]
        },
        {
          "output_type": "stream",
          "name": "stderr",
          "text": [
            "WARNING:root:Skipping YouTube video 68660\n"
          ]
        },
        {
          "output_type": "stream",
          "name": "stdout",
          "text": [
            "Skipping YouTube video 68660\n",
            "Skipping YouTube video 68660\n"
          ]
        },
        {
          "output_type": "stream",
          "name": "stderr",
          "text": [
            "WARNING:root:Skipping YouTube video 68041\n"
          ]
        },
        {
          "output_type": "stream",
          "name": "stdout",
          "text": [
            "Skipping YouTube video 68041\n",
            "Skipping YouTube video 68041\n"
          ]
        },
        {
          "output_type": "stream",
          "name": "stderr",
          "text": [
            "WARNING:root:Skipping YouTube video 17725\n"
          ]
        },
        {
          "output_type": "stream",
          "name": "stdout",
          "text": [
            "Skipping YouTube video 17725\n",
            "Skipping YouTube video 17725\n"
          ]
        },
        {
          "output_type": "stream",
          "name": "stderr",
          "text": [
            "WARNING:root:Skipping YouTube video 17726\n"
          ]
        },
        {
          "output_type": "stream",
          "name": "stdout",
          "text": [
            "Skipping YouTube video 17726\n",
            "Skipping YouTube video 17726\n"
          ]
        },
        {
          "output_type": "stream",
          "name": "stderr",
          "text": [
            "WARNING:root:Skipping YouTube video 17727\n"
          ]
        },
        {
          "output_type": "stream",
          "name": "stdout",
          "text": [
            "Skipping YouTube video 17727\n",
            "Skipping YouTube video 17727\n"
          ]
        },
        {
          "output_type": "stream",
          "name": "stderr",
          "text": [
            "WARNING:root:Skipping YouTube video 17728\n"
          ]
        },
        {
          "output_type": "stream",
          "name": "stdout",
          "text": [
            "Skipping YouTube video 17728\n",
            "Skipping YouTube video 17728\n"
          ]
        },
        {
          "output_type": "stream",
          "name": "stderr",
          "text": [
            "WARNING:root:Skipping YouTube video 17729\n"
          ]
        },
        {
          "output_type": "stream",
          "name": "stdout",
          "text": [
            "Skipping YouTube video 17729\n",
            "Skipping YouTube video 17729\n"
          ]
        },
        {
          "output_type": "stream",
          "name": "stderr",
          "text": [
            "WARNING:root:Skipping YouTube video 17730\n"
          ]
        },
        {
          "output_type": "stream",
          "name": "stdout",
          "text": [
            "Skipping YouTube video 17730\n",
            "Skipping YouTube video 17730\n"
          ]
        },
        {
          "output_type": "stream",
          "name": "stderr",
          "text": [
            "WARNING:root:Skipping YouTube video 17731\n"
          ]
        },
        {
          "output_type": "stream",
          "name": "stdout",
          "text": [
            "Skipping YouTube video 17731\n",
            "Skipping YouTube video 17731\n"
          ]
        },
        {
          "output_type": "stream",
          "name": "stderr",
          "text": [
            "ERROR:root:Unsuccessful downloading - video 17714\n"
          ]
        },
        {
          "output_type": "stream",
          "name": "stdout",
          "text": [
            "Unsuccessful downloading - video 17714\n",
            "Unsuccessful downloading - video 17714\n"
          ]
        },
        {
          "output_type": "stream",
          "name": "stderr",
          "text": [
            "ERROR:root:Unsuccessful downloading - video 17715\n"
          ]
        },
        {
          "output_type": "stream",
          "name": "stdout",
          "text": [
            "Unsuccessful downloading - video 17715\n",
            "Unsuccessful downloading - video 17715\n"
          ]
        },
        {
          "output_type": "stream",
          "name": "stderr",
          "text": [
            "ERROR:root:Unsuccessful downloading - video 17716\n"
          ]
        },
        {
          "output_type": "stream",
          "name": "stdout",
          "text": [
            "Unsuccessful downloading - video 17716\n",
            "Unsuccessful downloading - video 17716\n"
          ]
        },
        {
          "output_type": "stream",
          "name": "stderr",
          "text": [
            "ERROR:root:Unsuccessful downloading - video 17717\n"
          ]
        },
        {
          "output_type": "stream",
          "name": "stdout",
          "text": [
            "Unsuccessful downloading - video 17717\n",
            "Unsuccessful downloading - video 17717\n"
          ]
        },
        {
          "output_type": "stream",
          "name": "stderr",
          "text": [
            "ERROR:root:Unsuccessful downloading - video 17718\n"
          ]
        },
        {
          "output_type": "stream",
          "name": "stdout",
          "text": [
            "Unsuccessful downloading - video 17718\n",
            "Unsuccessful downloading - video 17718\n"
          ]
        },
        {
          "output_type": "stream",
          "name": "stderr",
          "text": [
            "WARNING:root:Skipping YouTube video 67594\n"
          ]
        },
        {
          "output_type": "stream",
          "name": "stdout",
          "text": [
            "Skipping YouTube video 67594\n",
            "Skipping YouTube video 67594\n"
          ]
        },
        {
          "output_type": "stream",
          "name": "stderr",
          "text": [
            "ERROR:root:Unsuccessful downloading - video 17719\n"
          ]
        },
        {
          "output_type": "stream",
          "name": "stdout",
          "text": [
            "Unsuccessful downloading - video 17719\n",
            "Unsuccessful downloading - video 17719\n"
          ]
        },
        {
          "output_type": "stream",
          "name": "stderr",
          "text": [
            "WARNING:root:Skipping YouTube video 12306\n"
          ]
        },
        {
          "output_type": "stream",
          "name": "stdout",
          "text": [
            "Skipping YouTube video 12306\n",
            "Skipping YouTube video 12306\n"
          ]
        },
        {
          "output_type": "stream",
          "name": "stderr",
          "text": [
            "WARNING:root:Skipping YouTube video 68028\n"
          ]
        },
        {
          "output_type": "stream",
          "name": "stdout",
          "text": [
            "Skipping YouTube video 68028\n",
            "Skipping YouTube video 68028\n"
          ]
        },
        {
          "output_type": "stream",
          "name": "stderr",
          "text": [
            "WARNING:root:Skipping YouTube video 69054\n"
          ]
        },
        {
          "output_type": "stream",
          "name": "stdout",
          "text": [
            "Skipping YouTube video 69054\n",
            "Skipping YouTube video 69054\n"
          ]
        },
        {
          "output_type": "stream",
          "name": "stderr",
          "text": [
            "WARNING:root:Skipping YouTube video 12329\n"
          ]
        },
        {
          "output_type": "stream",
          "name": "stdout",
          "text": [
            "Skipping YouTube video 12329\n",
            "Skipping YouTube video 12329\n"
          ]
        },
        {
          "output_type": "stream",
          "name": "stderr",
          "text": [
            "WARNING:root:Skipping YouTube video 12330\n"
          ]
        },
        {
          "output_type": "stream",
          "name": "stdout",
          "text": [
            "Skipping YouTube video 12330\n",
            "Skipping YouTube video 12330\n"
          ]
        },
        {
          "output_type": "stream",
          "name": "stderr",
          "text": [
            "WARNING:root:Skipping YouTube video 12331\n"
          ]
        },
        {
          "output_type": "stream",
          "name": "stdout",
          "text": [
            "Skipping YouTube video 12331\n",
            "Skipping YouTube video 12331\n"
          ]
        },
        {
          "output_type": "stream",
          "name": "stderr",
          "text": [
            "WARNING:root:Skipping YouTube video 12332\n"
          ]
        },
        {
          "output_type": "stream",
          "name": "stdout",
          "text": [
            "Skipping YouTube video 12332\n",
            "Skipping YouTube video 12332\n"
          ]
        },
        {
          "output_type": "stream",
          "name": "stderr",
          "text": [
            "WARNING:root:Skipping YouTube video 12333\n"
          ]
        },
        {
          "output_type": "stream",
          "name": "stdout",
          "text": [
            "Skipping YouTube video 12333\n",
            "Skipping YouTube video 12333\n"
          ]
        },
        {
          "output_type": "stream",
          "name": "stderr",
          "text": [
            "WARNING:root:Skipping YouTube video 12335\n"
          ]
        },
        {
          "output_type": "stream",
          "name": "stdout",
          "text": [
            "Skipping YouTube video 12335\n",
            "Skipping YouTube video 12335\n"
          ]
        },
        {
          "output_type": "stream",
          "name": "stderr",
          "text": [
            "WARNING:root:Skipping YouTube video 12336\n"
          ]
        },
        {
          "output_type": "stream",
          "name": "stdout",
          "text": [
            "Skipping YouTube video 12336\n",
            "Skipping YouTube video 12336\n"
          ]
        },
        {
          "output_type": "stream",
          "name": "stderr",
          "text": [
            "WARNING:root:Skipping YouTube video 67519\n"
          ]
        },
        {
          "output_type": "stream",
          "name": "stdout",
          "text": [
            "Skipping YouTube video 67519\n",
            "Skipping YouTube video 67519\n"
          ]
        },
        {
          "output_type": "stream",
          "name": "stderr",
          "text": [
            "ERROR:root:Unsuccessful downloading - video 12321\n"
          ]
        },
        {
          "output_type": "stream",
          "name": "stdout",
          "text": [
            "Unsuccessful downloading - video 12321\n",
            "Unsuccessful downloading - video 12321\n"
          ]
        },
        {
          "output_type": "stream",
          "name": "stderr",
          "text": [
            "ERROR:root:Unsuccessful downloading - video 12322\n"
          ]
        },
        {
          "output_type": "stream",
          "name": "stdout",
          "text": [
            "Unsuccessful downloading - video 12322\n",
            "Unsuccessful downloading - video 12322\n"
          ]
        },
        {
          "output_type": "stream",
          "name": "stderr",
          "text": [
            "ERROR:root:Unsuccessful downloading - video 12323\n"
          ]
        },
        {
          "output_type": "stream",
          "name": "stdout",
          "text": [
            "Unsuccessful downloading - video 12323\n",
            "Unsuccessful downloading - video 12323\n"
          ]
        },
        {
          "output_type": "stream",
          "name": "stderr",
          "text": [
            "ERROR:root:Unsuccessful downloading - video 12324\n"
          ]
        },
        {
          "output_type": "stream",
          "name": "stdout",
          "text": [
            "Unsuccessful downloading - video 12324\n",
            "Unsuccessful downloading - video 12324\n"
          ]
        },
        {
          "output_type": "stream",
          "name": "stderr",
          "text": [
            "WARNING:root:Skipping YouTube video 05724\n"
          ]
        },
        {
          "output_type": "stream",
          "name": "stdout",
          "text": [
            "Skipping YouTube video 05724\n",
            "Skipping YouTube video 05724\n"
          ]
        },
        {
          "output_type": "stream",
          "name": "stderr",
          "text": [
            "WARNING:root:Skipping YouTube video 70348\n"
          ]
        },
        {
          "output_type": "stream",
          "name": "stdout",
          "text": [
            "Skipping YouTube video 70348\n",
            "Skipping YouTube video 70348\n"
          ]
        },
        {
          "output_type": "stream",
          "name": "stderr",
          "text": [
            "WARNING:root:Skipping YouTube video 68007\n"
          ]
        },
        {
          "output_type": "stream",
          "name": "stdout",
          "text": [
            "Skipping YouTube video 68007\n",
            "Skipping YouTube video 68007\n"
          ]
        },
        {
          "output_type": "stream",
          "name": "stderr",
          "text": [
            "WARNING:root:Skipping YouTube video 05744\n"
          ]
        },
        {
          "output_type": "stream",
          "name": "stdout",
          "text": [
            "Skipping YouTube video 05744\n",
            "Skipping YouTube video 05744\n"
          ]
        },
        {
          "output_type": "stream",
          "name": "stderr",
          "text": [
            "WARNING:root:Skipping YouTube video 05746\n"
          ]
        },
        {
          "output_type": "stream",
          "name": "stdout",
          "text": [
            "Skipping YouTube video 05746\n",
            "Skipping YouTube video 05746\n"
          ]
        },
        {
          "output_type": "stream",
          "name": "stderr",
          "text": [
            "WARNING:root:Skipping YouTube video 05747\n"
          ]
        },
        {
          "output_type": "stream",
          "name": "stdout",
          "text": [
            "Skipping YouTube video 05747\n",
            "Skipping YouTube video 05747\n"
          ]
        },
        {
          "output_type": "stream",
          "name": "stderr",
          "text": [
            "ERROR:root:Unsuccessful downloading - video 65167\n"
          ]
        },
        {
          "output_type": "stream",
          "name": "stdout",
          "text": [
            "Unsuccessful downloading - video 65167\n",
            "Unsuccessful downloading - video 65167\n"
          ]
        },
        {
          "output_type": "stream",
          "name": "stderr",
          "text": [
            "ERROR:root:Unsuccessful downloading - video 05735\n"
          ]
        },
        {
          "output_type": "stream",
          "name": "stdout",
          "text": [
            "Unsuccessful downloading - video 05735\n",
            "Unsuccessful downloading - video 05735\n"
          ]
        },
        {
          "output_type": "stream",
          "name": "stderr",
          "text": [
            "ERROR:root:Unsuccessful downloading - video 05736\n"
          ]
        },
        {
          "output_type": "stream",
          "name": "stdout",
          "text": [
            "Unsuccessful downloading - video 05736\n",
            "Unsuccessful downloading - video 05736\n"
          ]
        },
        {
          "output_type": "stream",
          "name": "stderr",
          "text": [
            "ERROR:root:Unsuccessful downloading - video 05737\n"
          ]
        },
        {
          "output_type": "stream",
          "name": "stdout",
          "text": [
            "Unsuccessful downloading - video 05737\n",
            "Unsuccessful downloading - video 05737\n"
          ]
        },
        {
          "output_type": "stream",
          "name": "stderr",
          "text": [
            "WARNING:root:Skipping YouTube video 09847\n"
          ]
        },
        {
          "output_type": "stream",
          "name": "stdout",
          "text": [
            "Skipping YouTube video 09847\n",
            "Skipping YouTube video 09847\n"
          ]
        },
        {
          "output_type": "stream",
          "name": "stderr",
          "text": [
            "WARNING:root:Skipping YouTube video 70230\n"
          ]
        },
        {
          "output_type": "stream",
          "name": "stdout",
          "text": [
            "Skipping YouTube video 70230\n",
            "Skipping YouTube video 70230\n"
          ]
        },
        {
          "output_type": "stream",
          "name": "stderr",
          "text": [
            "WARNING:root:Skipping YouTube video 68580\n"
          ]
        },
        {
          "output_type": "stream",
          "name": "stdout",
          "text": [
            "Skipping YouTube video 68580\n",
            "Skipping YouTube video 68580\n"
          ]
        },
        {
          "output_type": "stream",
          "name": "stderr",
          "text": [
            "WARNING:root:Skipping YouTube video 70263\n"
          ]
        },
        {
          "output_type": "stream",
          "name": "stdout",
          "text": [
            "Skipping YouTube video 70263\n",
            "Skipping YouTube video 70263\n"
          ]
        },
        {
          "output_type": "stream",
          "name": "stderr",
          "text": [
            "WARNING:root:Skipping YouTube video 68019\n"
          ]
        },
        {
          "output_type": "stream",
          "name": "stdout",
          "text": [
            "Skipping YouTube video 68019\n",
            "Skipping YouTube video 68019\n"
          ]
        },
        {
          "output_type": "stream",
          "name": "stderr",
          "text": [
            "ERROR:root:Unsuccessful downloading - video 09853\n"
          ]
        },
        {
          "output_type": "stream",
          "name": "stdout",
          "text": [
            "Unsuccessful downloading - video 09853\n",
            "Unsuccessful downloading - video 09853\n"
          ]
        },
        {
          "output_type": "stream",
          "name": "stderr",
          "text": [
            "WARNING:root:Skipping YouTube video 09855\n"
          ]
        },
        {
          "output_type": "stream",
          "name": "stdout",
          "text": [
            "Skipping YouTube video 09855\n",
            "Skipping YouTube video 09855\n"
          ]
        },
        {
          "output_type": "stream",
          "name": "stderr",
          "text": [
            "WARNING:root:Skipping YouTube video 09856\n"
          ]
        },
        {
          "output_type": "stream",
          "name": "stdout",
          "text": [
            "Skipping YouTube video 09856\n",
            "Skipping YouTube video 09856\n"
          ]
        },
        {
          "output_type": "stream",
          "name": "stderr",
          "text": [
            "WARNING:root:Skipping YouTube video 67483\n"
          ]
        },
        {
          "output_type": "stream",
          "name": "stdout",
          "text": [
            "Skipping YouTube video 67483\n",
            "Skipping YouTube video 67483\n"
          ]
        },
        {
          "output_type": "stream",
          "name": "stderr",
          "text": [
            "WARNING:root:Skipping YouTube video 24857\n"
          ]
        },
        {
          "output_type": "stream",
          "name": "stdout",
          "text": [
            "Skipping YouTube video 24857\n",
            "Skipping YouTube video 24857\n"
          ]
        },
        {
          "output_type": "stream",
          "name": "stderr",
          "text": [
            "WARNING:root:Skipping YouTube video 68292\n"
          ]
        },
        {
          "output_type": "stream",
          "name": "stdout",
          "text": [
            "Skipping YouTube video 68292\n",
            "Skipping YouTube video 68292\n"
          ]
        },
        {
          "output_type": "stream",
          "name": "stderr",
          "text": [
            "WARNING:root:Skipping YouTube video 24965\n"
          ]
        },
        {
          "output_type": "stream",
          "name": "stdout",
          "text": [
            "Skipping YouTube video 24965\n",
            "Skipping YouTube video 24965\n"
          ]
        },
        {
          "output_type": "stream",
          "name": "stderr",
          "text": [
            "WARNING:root:Skipping YouTube video 24969\n"
          ]
        },
        {
          "output_type": "stream",
          "name": "stdout",
          "text": [
            "Skipping YouTube video 24969\n",
            "Skipping YouTube video 24969\n"
          ]
        },
        {
          "output_type": "stream",
          "name": "stderr",
          "text": [
            "WARNING:root:Skipping YouTube video 24970\n"
          ]
        },
        {
          "output_type": "stream",
          "name": "stdout",
          "text": [
            "Skipping YouTube video 24970\n",
            "Skipping YouTube video 24970\n"
          ]
        },
        {
          "output_type": "stream",
          "name": "stderr",
          "text": [
            "WARNING:root:Skipping YouTube video 24971\n"
          ]
        },
        {
          "output_type": "stream",
          "name": "stdout",
          "text": [
            "Skipping YouTube video 24971\n",
            "Skipping YouTube video 24971\n"
          ]
        },
        {
          "output_type": "stream",
          "name": "stderr",
          "text": [
            "WARNING:root:Skipping YouTube video 67715\n"
          ]
        },
        {
          "output_type": "stream",
          "name": "stdout",
          "text": [
            "Skipping YouTube video 67715\n",
            "Skipping YouTube video 67715\n"
          ]
        },
        {
          "output_type": "stream",
          "name": "stderr",
          "text": [
            "WARNING:root:Skipping YouTube video 11305\n"
          ]
        },
        {
          "output_type": "stream",
          "name": "stdout",
          "text": [
            "Skipping YouTube video 11305\n",
            "Skipping YouTube video 11305\n"
          ]
        },
        {
          "output_type": "stream",
          "name": "stderr",
          "text": [
            "WARNING:root:Skipping YouTube video 68870\n"
          ]
        },
        {
          "output_type": "stream",
          "name": "stdout",
          "text": [
            "Skipping YouTube video 68870\n",
            "Skipping YouTube video 68870\n"
          ]
        },
        {
          "output_type": "stream",
          "name": "stderr",
          "text": [
            "WARNING:root:Skipping YouTube video 68024\n"
          ]
        },
        {
          "output_type": "stream",
          "name": "stdout",
          "text": [
            "Skipping YouTube video 68024\n",
            "Skipping YouTube video 68024\n"
          ]
        },
        {
          "output_type": "stream",
          "name": "stderr",
          "text": [
            "ERROR:root:Unsuccessful downloading - video 11312\n"
          ]
        },
        {
          "output_type": "stream",
          "name": "stdout",
          "text": [
            "Unsuccessful downloading - video 11312\n",
            "Unsuccessful downloading - video 11312\n"
          ]
        },
        {
          "output_type": "stream",
          "name": "stderr",
          "text": [
            "WARNING:root:Skipping YouTube video 11314\n"
          ]
        },
        {
          "output_type": "stream",
          "name": "stdout",
          "text": [
            "Skipping YouTube video 11314\n",
            "Skipping YouTube video 11314\n"
          ]
        },
        {
          "output_type": "stream",
          "name": "stderr",
          "text": [
            "WARNING:root:Skipping YouTube video 11315\n"
          ]
        },
        {
          "output_type": "stream",
          "name": "stdout",
          "text": [
            "Skipping YouTube video 11315\n",
            "Skipping YouTube video 11315\n"
          ]
        },
        {
          "output_type": "stream",
          "name": "stderr",
          "text": [
            "WARNING:root:Skipping YouTube video 11316\n"
          ]
        },
        {
          "output_type": "stream",
          "name": "stdout",
          "text": [
            "Skipping YouTube video 11316\n",
            "Skipping YouTube video 11316\n"
          ]
        },
        {
          "output_type": "stream",
          "name": "stderr",
          "text": [
            "WARNING:root:Skipping YouTube video 63219\n"
          ]
        },
        {
          "output_type": "stream",
          "name": "stdout",
          "text": [
            "Skipping YouTube video 63219\n",
            "Skipping YouTube video 63219\n"
          ]
        },
        {
          "output_type": "stream",
          "name": "stderr",
          "text": [
            "WARNING:root:Skipping YouTube video 68890\n"
          ]
        },
        {
          "output_type": "stream",
          "name": "stdout",
          "text": [
            "Skipping YouTube video 68890\n",
            "Skipping YouTube video 68890\n"
          ]
        },
        {
          "output_type": "stream",
          "name": "stderr",
          "text": [
            "WARNING:root:Skipping YouTube video 68183\n"
          ]
        },
        {
          "output_type": "stream",
          "name": "stdout",
          "text": [
            "Skipping YouTube video 68183\n",
            "Skipping YouTube video 68183\n"
          ]
        },
        {
          "output_type": "stream",
          "name": "stderr",
          "text": [
            "WARNING:root:Skipping YouTube video 63239\n"
          ]
        },
        {
          "output_type": "stream",
          "name": "stdout",
          "text": [
            "Skipping YouTube video 63239\n",
            "Skipping YouTube video 63239\n"
          ]
        },
        {
          "output_type": "stream",
          "name": "stderr",
          "text": [
            "WARNING:root:Skipping YouTube video 63240\n"
          ]
        },
        {
          "output_type": "stream",
          "name": "stdout",
          "text": [
            "Skipping YouTube video 63240\n",
            "Skipping YouTube video 63240\n"
          ]
        },
        {
          "output_type": "stream",
          "name": "stderr",
          "text": [
            "ERROR:root:Unsuccessful downloading - video 66778\n"
          ]
        },
        {
          "output_type": "stream",
          "name": "stdout",
          "text": [
            "Unsuccessful downloading - video 66778\n",
            "Unsuccessful downloading - video 66778\n"
          ]
        },
        {
          "output_type": "stream",
          "name": "stderr",
          "text": [
            "ERROR:root:Unsuccessful downloading - video 63233\n"
          ]
        },
        {
          "output_type": "stream",
          "name": "stdout",
          "text": [
            "Unsuccessful downloading - video 63233\n",
            "Unsuccessful downloading - video 63233\n"
          ]
        },
        {
          "output_type": "stream",
          "name": "stderr",
          "text": [
            "ERROR:root:Unsuccessful downloading - video 63234\n"
          ]
        },
        {
          "output_type": "stream",
          "name": "stdout",
          "text": [
            "Unsuccessful downloading - video 63234\n",
            "Unsuccessful downloading - video 63234\n"
          ]
        },
        {
          "output_type": "stream",
          "name": "stderr",
          "text": [
            "ERROR:root:Unsuccessful downloading - video 66779\n"
          ]
        },
        {
          "output_type": "stream",
          "name": "stdout",
          "text": [
            "Unsuccessful downloading - video 66779\n",
            "Unsuccessful downloading - video 66779\n"
          ]
        },
        {
          "output_type": "stream",
          "name": "stderr",
          "text": [
            "ERROR:root:Unsuccessful downloading - video 66780\n"
          ]
        },
        {
          "output_type": "stream",
          "name": "stdout",
          "text": [
            "Unsuccessful downloading - video 66780\n",
            "Unsuccessful downloading - video 66780\n"
          ]
        },
        {
          "output_type": "stream",
          "name": "stderr",
          "text": [
            "WARNING:root:Skipping YouTube video 67066\n"
          ]
        },
        {
          "output_type": "stream",
          "name": "stdout",
          "text": [
            "Skipping YouTube video 67066\n",
            "Skipping YouTube video 67066\n"
          ]
        },
        {
          "output_type": "stream",
          "name": "stderr",
          "text": [
            "WARNING:root:Skipping YouTube video 63238\n"
          ]
        },
        {
          "output_type": "stream",
          "name": "stdout",
          "text": [
            "Skipping YouTube video 63238\n",
            "Skipping YouTube video 63238\n"
          ]
        },
        {
          "output_type": "stream",
          "name": "stderr",
          "text": [
            "WARNING:root:Skipping YouTube video 08909\n"
          ]
        },
        {
          "output_type": "stream",
          "name": "stdout",
          "text": [
            "Skipping YouTube video 08909\n",
            "Skipping YouTube video 08909\n"
          ]
        },
        {
          "output_type": "stream",
          "name": "stderr",
          "text": [
            "WARNING:root:Skipping YouTube video 68018\n"
          ]
        },
        {
          "output_type": "stream",
          "name": "stdout",
          "text": [
            "Skipping YouTube video 68018\n",
            "Skipping YouTube video 68018\n"
          ]
        },
        {
          "output_type": "stream",
          "name": "stderr",
          "text": [
            "WARNING:root:Skipping YouTube video 70326\n"
          ]
        },
        {
          "output_type": "stream",
          "name": "stdout",
          "text": [
            "Skipping YouTube video 70326\n",
            "Skipping YouTube video 70326\n"
          ]
        },
        {
          "output_type": "stream",
          "name": "stderr",
          "text": [
            "WARNING:root:Skipping YouTube video 68790\n"
          ]
        },
        {
          "output_type": "stream",
          "name": "stdout",
          "text": [
            "Skipping YouTube video 68790\n",
            "Skipping YouTube video 68790\n"
          ]
        },
        {
          "output_type": "stream",
          "name": "stderr",
          "text": [
            "ERROR:root:Unsuccessful downloading - video 08922\n"
          ]
        },
        {
          "output_type": "stream",
          "name": "stdout",
          "text": [
            "Unsuccessful downloading - video 08922\n",
            "Unsuccessful downloading - video 08922\n"
          ]
        },
        {
          "output_type": "stream",
          "name": "stderr",
          "text": [
            "ERROR:root:Unsuccessful downloading - video 08923\n"
          ]
        },
        {
          "output_type": "stream",
          "name": "stdout",
          "text": [
            "Unsuccessful downloading - video 08923\n",
            "Unsuccessful downloading - video 08923\n"
          ]
        },
        {
          "output_type": "stream",
          "name": "stderr",
          "text": [
            "ERROR:root:Unsuccessful downloading - video 65299\n"
          ]
        },
        {
          "output_type": "stream",
          "name": "stdout",
          "text": [
            "Unsuccessful downloading - video 65299\n",
            "Unsuccessful downloading - video 65299\n"
          ]
        },
        {
          "output_type": "stream",
          "name": "stderr",
          "text": [
            "WARNING:root:Skipping YouTube video 67468\n"
          ]
        },
        {
          "output_type": "stream",
          "name": "stdout",
          "text": [
            "Skipping YouTube video 67468\n",
            "Skipping YouTube video 67468\n"
          ]
        },
        {
          "output_type": "stream",
          "name": "stderr",
          "text": [
            "WARNING:root:Skipping YouTube video 67470\n"
          ]
        },
        {
          "output_type": "stream",
          "name": "stdout",
          "text": [
            "Skipping YouTube video 67470\n",
            "Skipping YouTube video 67470\n"
          ]
        },
        {
          "output_type": "stream",
          "name": "stderr",
          "text": [
            "WARNING:root:Skipping YouTube video 08926\n"
          ]
        },
        {
          "output_type": "stream",
          "name": "stdout",
          "text": [
            "Skipping YouTube video 08926\n",
            "Skipping YouTube video 08926\n"
          ]
        },
        {
          "output_type": "stream",
          "name": "stderr",
          "text": [
            "WARNING:root:Skipping YouTube video 08927\n"
          ]
        },
        {
          "output_type": "stream",
          "name": "stdout",
          "text": [
            "Skipping YouTube video 08927\n",
            "Skipping YouTube video 08927\n"
          ]
        },
        {
          "output_type": "stream",
          "name": "stderr",
          "text": [
            "WARNING:root:Skipping YouTube video 70332\n"
          ]
        },
        {
          "output_type": "stream",
          "name": "stdout",
          "text": [
            "Skipping YouTube video 70332\n",
            "Skipping YouTube video 70332\n"
          ]
        },
        {
          "output_type": "stream",
          "name": "stderr",
          "text": [
            "WARNING:root:Skipping YouTube video 68592\n"
          ]
        },
        {
          "output_type": "stream",
          "name": "stdout",
          "text": [
            "Skipping YouTube video 68592\n",
            "Skipping YouTube video 68592\n"
          ]
        },
        {
          "output_type": "stream",
          "name": "stderr",
          "text": [
            "WARNING:root:Skipping YouTube video 67535\n"
          ]
        },
        {
          "output_type": "stream",
          "name": "stdout",
          "text": [
            "Skipping YouTube video 67535\n",
            "Skipping YouTube video 67535\n"
          ]
        },
        {
          "output_type": "stream",
          "name": "stderr",
          "text": [
            "WARNING:root:Skipping YouTube video 13643\n"
          ]
        },
        {
          "output_type": "stream",
          "name": "stdout",
          "text": [
            "Skipping YouTube video 13643\n",
            "Skipping YouTube video 13643\n"
          ]
        },
        {
          "output_type": "stream",
          "name": "stderr",
          "text": [
            "WARNING:root:Skipping YouTube video 14855\n"
          ]
        },
        {
          "output_type": "stream",
          "name": "stdout",
          "text": [
            "Skipping YouTube video 14855\n",
            "Skipping YouTube video 14855\n"
          ]
        },
        {
          "output_type": "stream",
          "name": "stderr",
          "text": [
            "WARNING:root:Skipping YouTube video 70015\n"
          ]
        },
        {
          "output_type": "stream",
          "name": "stdout",
          "text": [
            "Skipping YouTube video 70015\n",
            "Skipping YouTube video 70015\n"
          ]
        },
        {
          "output_type": "stream",
          "name": "stderr",
          "text": [
            "WARNING:root:Skipping YouTube video 68586\n"
          ]
        },
        {
          "output_type": "stream",
          "name": "stdout",
          "text": [
            "Skipping YouTube video 68586\n",
            "Skipping YouTube video 68586\n"
          ]
        },
        {
          "output_type": "stream",
          "name": "stderr",
          "text": [
            "WARNING:root:Skipping YouTube video 68033\n"
          ]
        },
        {
          "output_type": "stream",
          "name": "stdout",
          "text": [
            "Skipping YouTube video 68033\n",
            "Skipping YouTube video 68033\n"
          ]
        },
        {
          "output_type": "stream",
          "name": "stderr",
          "text": [
            "WARNING:root:Skipping YouTube video 14899\n"
          ]
        },
        {
          "output_type": "stream",
          "name": "stdout",
          "text": [
            "Skipping YouTube video 14899\n",
            "Skipping YouTube video 14899\n"
          ]
        },
        {
          "output_type": "stream",
          "name": "stderr",
          "text": [
            "WARNING:root:Skipping YouTube video 14900\n"
          ]
        },
        {
          "output_type": "stream",
          "name": "stdout",
          "text": [
            "Skipping YouTube video 14900\n",
            "Skipping YouTube video 14900\n"
          ]
        },
        {
          "output_type": "stream",
          "name": "stderr",
          "text": [
            "ERROR:root:Unsuccessful downloading - video 14889\n"
          ]
        },
        {
          "output_type": "stream",
          "name": "stdout",
          "text": [
            "Unsuccessful downloading - video 14889\n",
            "Unsuccessful downloading - video 14889\n"
          ]
        },
        {
          "output_type": "stream",
          "name": "stderr",
          "text": [
            "ERROR:root:Unsuccessful downloading - video 14891\n"
          ]
        },
        {
          "output_type": "stream",
          "name": "stdout",
          "text": [
            "Unsuccessful downloading - video 14891\n",
            "Unsuccessful downloading - video 14891\n"
          ]
        },
        {
          "output_type": "stream",
          "name": "stderr",
          "text": [
            "WARNING:root:Skipping YouTube video 14895\n"
          ]
        },
        {
          "output_type": "stream",
          "name": "stdout",
          "text": [
            "Skipping YouTube video 14895\n",
            "Skipping YouTube video 14895\n"
          ]
        },
        {
          "output_type": "stream",
          "name": "stderr",
          "text": [
            "WARNING:root:Skipping YouTube video 14896\n"
          ]
        },
        {
          "output_type": "stream",
          "name": "stdout",
          "text": [
            "Skipping YouTube video 14896\n",
            "Skipping YouTube video 14896\n"
          ]
        },
        {
          "output_type": "stream",
          "name": "stderr",
          "text": [
            "WARNING:root:Skipping YouTube video 14898\n"
          ]
        },
        {
          "output_type": "stream",
          "name": "stdout",
          "text": [
            "Skipping YouTube video 14898\n",
            "Skipping YouTube video 14898\n"
          ]
        },
        {
          "output_type": "stream",
          "name": "stderr",
          "text": [
            "ERROR:root:Unsuccessful downloading - video 65717\n"
          ]
        },
        {
          "output_type": "stream",
          "name": "stdout",
          "text": [
            "Unsuccessful downloading - video 65717\n",
            "Unsuccessful downloading - video 65717\n"
          ]
        },
        {
          "output_type": "stream",
          "name": "stderr",
          "text": [
            "WARNING:root:Skipping YouTube video 70234\n"
          ]
        },
        {
          "output_type": "stream",
          "name": "stdout",
          "text": [
            "Skipping YouTube video 70234\n",
            "Skipping YouTube video 70234\n"
          ]
        },
        {
          "output_type": "stream",
          "name": "stderr",
          "text": [
            "WARNING:root:Skipping YouTube video 68048\n"
          ]
        },
        {
          "output_type": "stream",
          "name": "stdout",
          "text": [
            "Skipping YouTube video 68048\n",
            "Skipping YouTube video 68048\n"
          ]
        },
        {
          "output_type": "stream",
          "name": "stderr",
          "text": [
            "WARNING:root:Skipping YouTube video 21885\n"
          ]
        },
        {
          "output_type": "stream",
          "name": "stdout",
          "text": [
            "Skipping YouTube video 21885\n",
            "Skipping YouTube video 21885\n"
          ]
        },
        {
          "output_type": "stream",
          "name": "stderr",
          "text": [
            "WARNING:root:Skipping YouTube video 21886\n"
          ]
        },
        {
          "output_type": "stream",
          "name": "stdout",
          "text": [
            "Skipping YouTube video 21886\n",
            "Skipping YouTube video 21886\n"
          ]
        },
        {
          "output_type": "stream",
          "name": "stderr",
          "text": [
            "WARNING:root:Skipping YouTube video 21887\n"
          ]
        },
        {
          "output_type": "stream",
          "name": "stdout",
          "text": [
            "Skipping YouTube video 21887\n",
            "Skipping YouTube video 21887\n"
          ]
        },
        {
          "output_type": "stream",
          "name": "stderr",
          "text": [
            "ERROR:root:Unsuccessful downloading - video 21875\n"
          ]
        },
        {
          "output_type": "stream",
          "name": "stdout",
          "text": [
            "Unsuccessful downloading - video 21875\n",
            "Unsuccessful downloading - video 21875\n"
          ]
        },
        {
          "output_type": "stream",
          "name": "stderr",
          "text": [
            "ERROR:root:Unsuccessful downloading - video 21876\n"
          ]
        },
        {
          "output_type": "stream",
          "name": "stdout",
          "text": [
            "Unsuccessful downloading - video 21876\n",
            "Unsuccessful downloading - video 21876\n"
          ]
        },
        {
          "output_type": "stream",
          "name": "stderr",
          "text": [
            "WARNING:root:Skipping YouTube video 67660\n"
          ]
        },
        {
          "output_type": "stream",
          "name": "stdout",
          "text": [
            "Skipping YouTube video 67660\n",
            "Skipping YouTube video 67660\n"
          ]
        },
        {
          "output_type": "stream",
          "name": "stderr",
          "text": [
            "WARNING:root:Skipping YouTube video 67659\n"
          ]
        },
        {
          "output_type": "stream",
          "name": "stdout",
          "text": [
            "Skipping YouTube video 67659\n",
            "Skipping YouTube video 67659\n"
          ]
        },
        {
          "output_type": "stream",
          "name": "stderr",
          "text": [
            "WARNING:root:Skipping YouTube video 21884\n"
          ]
        },
        {
          "output_type": "stream",
          "name": "stdout",
          "text": [
            "Skipping YouTube video 21884\n",
            "Skipping YouTube video 21884\n"
          ]
        },
        {
          "output_type": "stream",
          "name": "stderr",
          "text": [
            "WARNING:root:Skipping YouTube video 27194\n"
          ]
        },
        {
          "output_type": "stream",
          "name": "stdout",
          "text": [
            "Skipping YouTube video 27194\n",
            "Skipping YouTube video 27194\n"
          ]
        },
        {
          "output_type": "stream",
          "name": "stderr",
          "text": [
            "WARNING:root:Skipping YouTube video 27219\n"
          ]
        },
        {
          "output_type": "stream",
          "name": "stdout",
          "text": [
            "Skipping YouTube video 27219\n",
            "Skipping YouTube video 27219\n"
          ]
        },
        {
          "output_type": "stream",
          "name": "stderr",
          "text": [
            "ERROR:root:Unsuccessful downloading - video 27210\n"
          ]
        },
        {
          "output_type": "stream",
          "name": "stdout",
          "text": [
            "Unsuccessful downloading - video 27210\n",
            "Unsuccessful downloading - video 27210\n"
          ]
        },
        {
          "output_type": "stream",
          "name": "stderr",
          "text": [
            "ERROR:root:Unsuccessful downloading - video 27211\n"
          ]
        },
        {
          "output_type": "stream",
          "name": "stdout",
          "text": [
            "Unsuccessful downloading - video 27211\n",
            "Unsuccessful downloading - video 27211\n"
          ]
        },
        {
          "output_type": "stream",
          "name": "stderr",
          "text": [
            "ERROR:root:Unsuccessful downloading - video 27212\n"
          ]
        },
        {
          "output_type": "stream",
          "name": "stdout",
          "text": [
            "Unsuccessful downloading - video 27212\n",
            "Unsuccessful downloading - video 27212\n"
          ]
        },
        {
          "output_type": "stream",
          "name": "stderr",
          "text": [
            "WARNING:root:Skipping YouTube video 67757\n"
          ]
        },
        {
          "output_type": "stream",
          "name": "stdout",
          "text": [
            "Skipping YouTube video 67757\n",
            "Skipping YouTube video 67757\n"
          ]
        },
        {
          "output_type": "stream",
          "name": "stderr",
          "text": [
            "WARNING:root:Skipping YouTube video 27218\n"
          ]
        },
        {
          "output_type": "stream",
          "name": "stdout",
          "text": [
            "Skipping YouTube video 27218\n",
            "Skipping YouTube video 27218\n"
          ]
        },
        {
          "output_type": "stream",
          "name": "stderr",
          "text": [
            "WARNING:root:Skipping YouTube video 38482\n"
          ]
        },
        {
          "output_type": "stream",
          "name": "stdout",
          "text": [
            "Skipping YouTube video 38482\n",
            "Skipping YouTube video 38482\n"
          ]
        },
        {
          "output_type": "stream",
          "name": "stderr",
          "text": [
            "WARNING:root:Skipping YouTube video 68110\n"
          ]
        },
        {
          "output_type": "stream",
          "name": "stdout",
          "text": [
            "Skipping YouTube video 68110\n",
            "Skipping YouTube video 68110\n"
          ]
        },
        {
          "output_type": "stream",
          "name": "stderr",
          "text": [
            "WARNING:root:Skipping YouTube video 68406\n"
          ]
        },
        {
          "output_type": "stream",
          "name": "stdout",
          "text": [
            "Skipping YouTube video 68406\n",
            "Skipping YouTube video 68406\n"
          ]
        },
        {
          "output_type": "stream",
          "name": "stderr",
          "text": [
            "WARNING:root:Skipping YouTube video 38539\n"
          ]
        },
        {
          "output_type": "stream",
          "name": "stdout",
          "text": [
            "Skipping YouTube video 38539\n",
            "Skipping YouTube video 38539\n"
          ]
        },
        {
          "output_type": "stream",
          "name": "stderr",
          "text": [
            "WARNING:root:Skipping YouTube video 38540\n"
          ]
        },
        {
          "output_type": "stream",
          "name": "stdout",
          "text": [
            "Skipping YouTube video 38540\n",
            "Skipping YouTube video 38540\n"
          ]
        },
        {
          "output_type": "stream",
          "name": "stderr",
          "text": [
            "WARNING:root:Skipping YouTube video 38541\n"
          ]
        },
        {
          "output_type": "stream",
          "name": "stdout",
          "text": [
            "Skipping YouTube video 38541\n",
            "Skipping YouTube video 38541\n"
          ]
        },
        {
          "output_type": "stream",
          "name": "stderr",
          "text": [
            "ERROR:root:Unsuccessful downloading - video 66183\n"
          ]
        },
        {
          "output_type": "stream",
          "name": "stdout",
          "text": [
            "Unsuccessful downloading - video 66183\n",
            "Unsuccessful downloading - video 66183\n"
          ]
        },
        {
          "output_type": "stream",
          "name": "stderr",
          "text": [
            "WARNING:root:Skipping YouTube video 67934\n"
          ]
        },
        {
          "output_type": "stream",
          "name": "stdout",
          "text": [
            "Skipping YouTube video 67934\n",
            "Skipping YouTube video 67934\n"
          ]
        },
        {
          "output_type": "stream",
          "name": "stderr",
          "text": [
            "WARNING:root:Skipping YouTube video 38536\n"
          ]
        },
        {
          "output_type": "stream",
          "name": "stdout",
          "text": [
            "Skipping YouTube video 38536\n",
            "Skipping YouTube video 38536\n"
          ]
        },
        {
          "output_type": "stream",
          "name": "stderr",
          "text": [
            "WARNING:root:Skipping YouTube video 38538\n"
          ]
        },
        {
          "output_type": "stream",
          "name": "stdout",
          "text": [
            "Skipping YouTube video 38538\n",
            "Skipping YouTube video 38538\n"
          ]
        },
        {
          "output_type": "stream",
          "name": "stderr",
          "text": [
            "WARNING:root:Skipping YouTube video 57919\n"
          ]
        },
        {
          "output_type": "stream",
          "name": "stdout",
          "text": [
            "Skipping YouTube video 57919\n",
            "Skipping YouTube video 57919\n"
          ]
        },
        {
          "output_type": "stream",
          "name": "stderr",
          "text": [
            "WARNING:root:Skipping YouTube video 57950\n"
          ]
        },
        {
          "output_type": "stream",
          "name": "stdout",
          "text": [
            "Skipping YouTube video 57950\n",
            "Skipping YouTube video 57950\n"
          ]
        },
        {
          "output_type": "stream",
          "name": "stderr",
          "text": [
            "WARNING:root:Skipping YouTube video 67299\n"
          ]
        },
        {
          "output_type": "stream",
          "name": "stdout",
          "text": [
            "Skipping YouTube video 67299\n",
            "Skipping YouTube video 67299\n"
          ]
        },
        {
          "output_type": "stream",
          "name": "stderr",
          "text": [
            "ERROR:root:Unsuccessful downloading - video 57944\n"
          ]
        },
        {
          "output_type": "stream",
          "name": "stdout",
          "text": [
            "Unsuccessful downloading - video 57944\n",
            "Unsuccessful downloading - video 57944\n"
          ]
        },
        {
          "output_type": "stream",
          "name": "stderr",
          "text": [
            "ERROR:root:Unsuccessful downloading - video 57945\n"
          ]
        },
        {
          "output_type": "stream",
          "name": "stdout",
          "text": [
            "Unsuccessful downloading - video 57945\n",
            "Unsuccessful downloading - video 57945\n"
          ]
        },
        {
          "output_type": "stream",
          "name": "stderr",
          "text": [
            "WARNING:root:Skipping YouTube video 62152\n"
          ]
        },
        {
          "output_type": "stream",
          "name": "stdout",
          "text": [
            "Skipping YouTube video 62152\n",
            "Skipping YouTube video 62152\n"
          ]
        },
        {
          "output_type": "stream",
          "name": "stderr",
          "text": [
            "WARNING:root:Skipping YouTube video 68852\n"
          ]
        },
        {
          "output_type": "stream",
          "name": "stdout",
          "text": [
            "Skipping YouTube video 68852\n",
            "Skipping YouTube video 68852\n"
          ]
        },
        {
          "output_type": "stream",
          "name": "stderr",
          "text": [
            "WARNING:root:Skipping YouTube video 68918\n"
          ]
        },
        {
          "output_type": "stream",
          "name": "stdout",
          "text": [
            "Skipping YouTube video 68918\n",
            "Skipping YouTube video 68918\n"
          ]
        },
        {
          "output_type": "stream",
          "name": "stderr",
          "text": [
            "WARNING:root:Skipping YouTube video 68177\n"
          ]
        },
        {
          "output_type": "stream",
          "name": "stdout",
          "text": [
            "Skipping YouTube video 68177\n",
            "Skipping YouTube video 68177\n"
          ]
        },
        {
          "output_type": "stream",
          "name": "stderr",
          "text": [
            "WARNING:root:Skipping YouTube video 62173\n"
          ]
        },
        {
          "output_type": "stream",
          "name": "stdout",
          "text": [
            "Skipping YouTube video 62173\n",
            "Skipping YouTube video 62173\n"
          ]
        },
        {
          "output_type": "stream",
          "name": "stderr",
          "text": [
            "ERROR:root:Unsuccessful downloading - video 66743\n"
          ]
        },
        {
          "output_type": "stream",
          "name": "stdout",
          "text": [
            "Unsuccessful downloading - video 66743\n",
            "Unsuccessful downloading - video 66743\n"
          ]
        },
        {
          "output_type": "stream",
          "name": "stderr",
          "text": [
            "ERROR:root:Unsuccessful downloading - video 66742\n"
          ]
        },
        {
          "output_type": "stream",
          "name": "stdout",
          "text": [
            "Unsuccessful downloading - video 66742\n",
            "Unsuccessful downloading - video 66742\n"
          ]
        },
        {
          "output_type": "stream",
          "name": "stderr",
          "text": [
            "WARNING:root:Skipping YouTube video 67036\n"
          ]
        },
        {
          "output_type": "stream",
          "name": "stdout",
          "text": [
            "Skipping YouTube video 67036\n",
            "Skipping YouTube video 67036\n"
          ]
        },
        {
          "output_type": "stream",
          "name": "stderr",
          "text": [
            "WARNING:root:Skipping YouTube video 62171\n"
          ]
        },
        {
          "output_type": "stream",
          "name": "stdout",
          "text": [
            "Skipping YouTube video 62171\n",
            "Skipping YouTube video 62171\n"
          ]
        },
        {
          "output_type": "stream",
          "name": "stderr",
          "text": [
            "WARNING:root:Skipping YouTube video 62172\n"
          ]
        },
        {
          "output_type": "stream",
          "name": "stdout",
          "text": [
            "Skipping YouTube video 62172\n",
            "Skipping YouTube video 62172\n"
          ]
        },
        {
          "output_type": "stream",
          "name": "stderr",
          "text": [
            "WARNING:root:Skipping YouTube video 64201\n"
          ]
        },
        {
          "output_type": "stream",
          "name": "stdout",
          "text": [
            "Skipping YouTube video 64201\n",
            "Skipping YouTube video 64201\n"
          ]
        },
        {
          "output_type": "stream",
          "name": "stderr",
          "text": [
            "WARNING:root:Skipping YouTube video 68416\n"
          ]
        },
        {
          "output_type": "stream",
          "name": "stdout",
          "text": [
            "Skipping YouTube video 68416\n",
            "Skipping YouTube video 68416\n"
          ]
        },
        {
          "output_type": "stream",
          "name": "stderr",
          "text": [
            "WARNING:root:Skipping YouTube video 68190\n"
          ]
        },
        {
          "output_type": "stream",
          "name": "stdout",
          "text": [
            "Skipping YouTube video 68190\n",
            "Skipping YouTube video 68190\n"
          ]
        },
        {
          "output_type": "stream",
          "name": "stderr",
          "text": [
            "WARNING:root:Skipping YouTube video 70306\n"
          ]
        },
        {
          "output_type": "stream",
          "name": "stdout",
          "text": [
            "Skipping YouTube video 70306\n",
            "Skipping YouTube video 70306\n"
          ]
        },
        {
          "output_type": "stream",
          "name": "stderr",
          "text": [
            "WARNING:root:Skipping YouTube video 68992\n"
          ]
        },
        {
          "output_type": "stream",
          "name": "stdout",
          "text": [
            "Skipping YouTube video 68992\n",
            "Skipping YouTube video 68992\n"
          ]
        },
        {
          "output_type": "stream",
          "name": "stderr",
          "text": [
            "ERROR:root:Unsuccessful downloading - video 64215\n"
          ]
        },
        {
          "output_type": "stream",
          "name": "stdout",
          "text": [
            "Unsuccessful downloading - video 64215\n",
            "Unsuccessful downloading - video 64215\n"
          ]
        },
        {
          "output_type": "stream",
          "name": "stderr",
          "text": [
            "ERROR:root:Unsuccessful downloading - video 64216\n"
          ]
        },
        {
          "output_type": "stream",
          "name": "stdout",
          "text": [
            "Unsuccessful downloading - video 64216\n",
            "Unsuccessful downloading - video 64216\n"
          ]
        },
        {
          "output_type": "stream",
          "name": "stderr",
          "text": [
            "WARNING:root:Skipping YouTube video 67012\n"
          ]
        },
        {
          "output_type": "stream",
          "name": "stdout",
          "text": [
            "Skipping YouTube video 67012\n",
            "Skipping YouTube video 67012\n"
          ]
        },
        {
          "output_type": "stream",
          "name": "stderr",
          "text": [
            "ERROR:root:Unsuccessful downloading - video 64217\n"
          ]
        },
        {
          "output_type": "stream",
          "name": "stdout",
          "text": [
            "Unsuccessful downloading - video 64217\n",
            "Unsuccessful downloading - video 64217\n"
          ]
        },
        {
          "output_type": "stream",
          "name": "stderr",
          "text": [
            "WARNING:root:Skipping YouTube video 64221\n"
          ]
        },
        {
          "output_type": "stream",
          "name": "stdout",
          "text": [
            "Skipping YouTube video 64221\n",
            "Skipping YouTube video 64221\n"
          ]
        },
        {
          "output_type": "stream",
          "name": "stderr",
          "text": [
            "WARNING:root:Skipping YouTube video 64222\n"
          ]
        },
        {
          "output_type": "stream",
          "name": "stdout",
          "text": [
            "Skipping YouTube video 64222\n",
            "Skipping YouTube video 64222\n"
          ]
        },
        {
          "output_type": "stream",
          "name": "stderr",
          "text": [
            "WARNING:root:Skipping YouTube video 64275\n"
          ]
        },
        {
          "output_type": "stream",
          "name": "stdout",
          "text": [
            "Skipping YouTube video 64275\n",
            "Skipping YouTube video 64275\n"
          ]
        },
        {
          "output_type": "stream",
          "name": "stderr",
          "text": [
            "WARNING:root:Skipping YouTube video 68192\n"
          ]
        },
        {
          "output_type": "stream",
          "name": "stdout",
          "text": [
            "Skipping YouTube video 68192\n",
            "Skipping YouTube video 68192\n"
          ]
        },
        {
          "output_type": "stream",
          "name": "stderr",
          "text": [
            "ERROR:root:Unsuccessful downloading - video 64290\n"
          ]
        },
        {
          "output_type": "stream",
          "name": "stdout",
          "text": [
            "Unsuccessful downloading - video 64290\n",
            "Unsuccessful downloading - video 64290\n"
          ]
        },
        {
          "output_type": "stream",
          "name": "stderr",
          "text": [
            "WARNING:root:Skipping YouTube video 64294\n"
          ]
        },
        {
          "output_type": "stream",
          "name": "stdout",
          "text": [
            "Skipping YouTube video 64294\n",
            "Skipping YouTube video 64294\n"
          ]
        },
        {
          "output_type": "stream",
          "name": "stderr",
          "text": [
            "WARNING:root:Skipping YouTube video 64295\n"
          ]
        },
        {
          "output_type": "stream",
          "name": "stdout",
          "text": [
            "Skipping YouTube video 64295\n",
            "Skipping YouTube video 64295\n"
          ]
        },
        {
          "output_type": "stream",
          "name": "stderr",
          "text": [
            "WARNING:root:Skipping YouTube video 64296\n"
          ]
        },
        {
          "output_type": "stream",
          "name": "stdout",
          "text": [
            "Skipping YouTube video 64296\n",
            "Skipping YouTube video 64296\n"
          ]
        },
        {
          "output_type": "stream",
          "name": "stderr",
          "text": [
            "ERROR:root:Unsuccessful downloading - video 66820\n"
          ]
        },
        {
          "output_type": "stream",
          "name": "stdout",
          "text": [
            "Unsuccessful downloading - video 66820\n",
            "Unsuccessful downloading - video 66820\n"
          ]
        },
        {
          "output_type": "stream",
          "name": "stderr",
          "text": [
            "WARNING:root:Skipping YouTube video 64297\n"
          ]
        },
        {
          "output_type": "stream",
          "name": "stdout",
          "text": [
            "Skipping YouTube video 64297\n",
            "Skipping YouTube video 64297\n"
          ]
        },
        {
          "output_type": "stream",
          "name": "stderr",
          "text": [
            "WARNING:root:Skipping YouTube video 64298\n"
          ]
        },
        {
          "output_type": "stream",
          "name": "stdout",
          "text": [
            "Skipping YouTube video 64298\n",
            "Skipping YouTube video 64298\n"
          ]
        },
        {
          "output_type": "stream",
          "name": "stderr",
          "text": [
            "ERROR:root:Unsuccessful downloading - video 64289\n"
          ]
        },
        {
          "output_type": "stream",
          "name": "stdout",
          "text": [
            "Unsuccessful downloading - video 64289\n",
            "Unsuccessful downloading - video 64289\n"
          ]
        },
        {
          "output_type": "stream",
          "name": "stderr",
          "text": [
            "WARNING:root:Skipping YouTube video 01912\n"
          ]
        },
        {
          "output_type": "stream",
          "name": "stdout",
          "text": [
            "Skipping YouTube video 01912\n",
            "Skipping YouTube video 01912\n"
          ]
        },
        {
          "output_type": "stream",
          "name": "stderr",
          "text": [
            "WARNING:root:Skipping YouTube video 68001\n"
          ]
        },
        {
          "output_type": "stream",
          "name": "stdout",
          "text": [
            "Skipping YouTube video 68001\n",
            "Skipping YouTube video 68001\n"
          ]
        },
        {
          "output_type": "stream",
          "name": "stderr",
          "text": [
            "WARNING:root:Skipping YouTube video 68720\n"
          ]
        },
        {
          "output_type": "stream",
          "name": "stdout",
          "text": [
            "Skipping YouTube video 68720\n",
            "Skipping YouTube video 68720\n"
          ]
        },
        {
          "output_type": "stream",
          "name": "stderr",
          "text": [
            "ERROR:root:Unsuccessful downloading - video 01989\n"
          ]
        },
        {
          "output_type": "stream",
          "name": "stdout",
          "text": [
            "Unsuccessful downloading - video 01989\n",
            "Unsuccessful downloading - video 01989\n"
          ]
        },
        {
          "output_type": "stream",
          "name": "stderr",
          "text": [
            "ERROR:root:Unsuccessful downloading - video 01990\n"
          ]
        },
        {
          "output_type": "stream",
          "name": "stdout",
          "text": [
            "Unsuccessful downloading - video 01990\n",
            "Unsuccessful downloading - video 01990\n"
          ]
        },
        {
          "output_type": "stream",
          "name": "stderr",
          "text": [
            "WARNING:root:Skipping YouTube video 01995\n"
          ]
        },
        {
          "output_type": "stream",
          "name": "stdout",
          "text": [
            "Skipping YouTube video 01995\n",
            "Skipping YouTube video 01995\n"
          ]
        },
        {
          "output_type": "stream",
          "name": "stderr",
          "text": [
            "WARNING:root:Skipping YouTube video 67356\n"
          ]
        },
        {
          "output_type": "stream",
          "name": "stdout",
          "text": [
            "Skipping YouTube video 67356\n",
            "Skipping YouTube video 67356\n"
          ]
        },
        {
          "output_type": "stream",
          "name": "stderr",
          "text": [
            "WARNING:root:Skipping YouTube video 01996\n"
          ]
        },
        {
          "output_type": "stream",
          "name": "stdout",
          "text": [
            "Skipping YouTube video 01996\n",
            "Skipping YouTube video 01996\n"
          ]
        },
        {
          "output_type": "stream",
          "name": "stderr",
          "text": [
            "WARNING:root:Skipping YouTube video 01997\n"
          ]
        },
        {
          "output_type": "stream",
          "name": "stdout",
          "text": [
            "Skipping YouTube video 01997\n",
            "Skipping YouTube video 01997\n"
          ]
        },
        {
          "output_type": "stream",
          "name": "stderr",
          "text": [
            "WARNING:root:Skipping YouTube video 01998\n"
          ]
        },
        {
          "output_type": "stream",
          "name": "stdout",
          "text": [
            "Skipping YouTube video 01998\n",
            "Skipping YouTube video 01998\n"
          ]
        },
        {
          "output_type": "stream",
          "name": "stderr",
          "text": [
            "WARNING:root:Skipping YouTube video 01999\n"
          ]
        },
        {
          "output_type": "stream",
          "name": "stdout",
          "text": [
            "Skipping YouTube video 01999\n",
            "Skipping YouTube video 01999\n"
          ]
        },
        {
          "output_type": "stream",
          "name": "stderr",
          "text": [
            "WARNING:root:Skipping YouTube video 02000\n"
          ]
        },
        {
          "output_type": "stream",
          "name": "stdout",
          "text": [
            "Skipping YouTube video 02000\n",
            "Skipping YouTube video 02000\n"
          ]
        },
        {
          "output_type": "stream",
          "name": "stderr",
          "text": [
            "WARNING:root:Skipping YouTube video 06455\n"
          ]
        },
        {
          "output_type": "stream",
          "name": "stdout",
          "text": [
            "Skipping YouTube video 06455\n",
            "Skipping YouTube video 06455\n"
          ]
        },
        {
          "output_type": "stream",
          "name": "stderr",
          "text": [
            "WARNING:root:Skipping YouTube video 68230\n"
          ]
        },
        {
          "output_type": "stream",
          "name": "stdout",
          "text": [
            "Skipping YouTube video 68230\n",
            "Skipping YouTube video 68230\n"
          ]
        },
        {
          "output_type": "stream",
          "name": "stderr",
          "text": [
            "WARNING:root:Skipping YouTube video 70244\n"
          ]
        },
        {
          "output_type": "stream",
          "name": "stdout",
          "text": [
            "Skipping YouTube video 70244\n",
            "Skipping YouTube video 70244\n"
          ]
        },
        {
          "output_type": "stream",
          "name": "stderr",
          "text": [
            "ERROR:root:Unsuccessful downloading - video 06475\n"
          ]
        },
        {
          "output_type": "stream",
          "name": "stdout",
          "text": [
            "Unsuccessful downloading - video 06475\n",
            "Unsuccessful downloading - video 06475\n"
          ]
        },
        {
          "output_type": "stream",
          "name": "stderr",
          "text": [
            "WARNING:root:Skipping YouTube video 06480\n"
          ]
        },
        {
          "output_type": "stream",
          "name": "stdout",
          "text": [
            "Skipping YouTube video 06480\n",
            "Skipping YouTube video 06480\n"
          ]
        },
        {
          "output_type": "stream",
          "name": "stderr",
          "text": [
            "WARNING:root:Skipping YouTube video 67414\n"
          ]
        },
        {
          "output_type": "stream",
          "name": "stdout",
          "text": [
            "Skipping YouTube video 67414\n",
            "Skipping YouTube video 67414\n"
          ]
        },
        {
          "output_type": "stream",
          "name": "stderr",
          "text": [
            "WARNING:root:Skipping YouTube video 06481\n"
          ]
        },
        {
          "output_type": "stream",
          "name": "stdout",
          "text": [
            "Skipping YouTube video 06481\n",
            "Skipping YouTube video 06481\n"
          ]
        },
        {
          "output_type": "stream",
          "name": "stderr",
          "text": [
            "WARNING:root:Skipping YouTube video 06482\n"
          ]
        },
        {
          "output_type": "stream",
          "name": "stdout",
          "text": [
            "Skipping YouTube video 06482\n",
            "Skipping YouTube video 06482\n"
          ]
        },
        {
          "output_type": "stream",
          "name": "stderr",
          "text": [
            "WARNING:root:Skipping YouTube video 06483\n"
          ]
        },
        {
          "output_type": "stream",
          "name": "stdout",
          "text": [
            "Skipping YouTube video 06483\n",
            "Skipping YouTube video 06483\n"
          ]
        },
        {
          "output_type": "stream",
          "name": "stderr",
          "text": [
            "WARNING:root:Skipping YouTube video 06484\n"
          ]
        },
        {
          "output_type": "stream",
          "name": "stdout",
          "text": [
            "Skipping YouTube video 06484\n",
            "Skipping YouTube video 06484\n"
          ]
        },
        {
          "output_type": "stream",
          "name": "stderr",
          "text": [
            "WARNING:root:Skipping YouTube video 70271\n"
          ]
        },
        {
          "output_type": "stream",
          "name": "stdout",
          "text": [
            "Skipping YouTube video 70271\n",
            "Skipping YouTube video 70271\n"
          ]
        },
        {
          "output_type": "stream",
          "name": "stderr",
          "text": [
            "WARNING:root:Skipping YouTube video 13214\n"
          ]
        },
        {
          "output_type": "stream",
          "name": "stdout",
          "text": [
            "Skipping YouTube video 13214\n",
            "Skipping YouTube video 13214\n"
          ]
        },
        {
          "output_type": "stream",
          "name": "stderr",
          "text": [
            "ERROR:root:Unsuccessful downloading - video 65402\n"
          ]
        },
        {
          "output_type": "stream",
          "name": "stdout",
          "text": [
            "Unsuccessful downloading - video 65402\n",
            "Unsuccessful downloading - video 65402\n"
          ]
        },
        {
          "output_type": "stream",
          "name": "stderr",
          "text": [
            "ERROR:root:Unsuccessful downloading - video 13205\n"
          ]
        },
        {
          "output_type": "stream",
          "name": "stdout",
          "text": [
            "Unsuccessful downloading - video 13205\n",
            "Unsuccessful downloading - video 13205\n"
          ]
        },
        {
          "output_type": "stream",
          "name": "stderr",
          "text": [
            "ERROR:root:Unsuccessful downloading - video 13206\n"
          ]
        },
        {
          "output_type": "stream",
          "name": "stdout",
          "text": [
            "Unsuccessful downloading - video 13206\n",
            "Unsuccessful downloading - video 13206\n"
          ]
        },
        {
          "output_type": "stream",
          "name": "stderr",
          "text": [
            "ERROR:root:Unsuccessful downloading - video 13207\n"
          ]
        },
        {
          "output_type": "stream",
          "name": "stdout",
          "text": [
            "Unsuccessful downloading - video 13207\n",
            "Unsuccessful downloading - video 13207\n"
          ]
        },
        {
          "output_type": "stream",
          "name": "stderr",
          "text": [
            "WARNING:root:Skipping YouTube video 21933\n"
          ]
        },
        {
          "output_type": "stream",
          "name": "stdout",
          "text": [
            "Skipping YouTube video 21933\n",
            "Skipping YouTube video 21933\n"
          ]
        },
        {
          "output_type": "stream",
          "name": "stderr",
          "text": [
            "WARNING:root:Skipping YouTube video 70361\n"
          ]
        },
        {
          "output_type": "stream",
          "name": "stdout",
          "text": [
            "Skipping YouTube video 70361\n",
            "Skipping YouTube video 70361\n"
          ]
        },
        {
          "output_type": "stream",
          "name": "stderr",
          "text": [
            "WARNING:root:Skipping YouTube video 68050\n"
          ]
        },
        {
          "output_type": "stream",
          "name": "stdout",
          "text": [
            "Skipping YouTube video 68050\n",
            "Skipping YouTube video 68050\n"
          ]
        },
        {
          "output_type": "stream",
          "name": "stderr",
          "text": [
            "WARNING:root:Skipping YouTube video 68674\n"
          ]
        },
        {
          "output_type": "stream",
          "name": "stdout",
          "text": [
            "Skipping YouTube video 68674\n",
            "Skipping YouTube video 68674\n"
          ]
        },
        {
          "output_type": "stream",
          "name": "stderr",
          "text": [
            "WARNING:root:Skipping YouTube video 68688\n"
          ]
        },
        {
          "output_type": "stream",
          "name": "stdout",
          "text": [
            "Skipping YouTube video 68688\n",
            "Skipping YouTube video 68688\n"
          ]
        },
        {
          "output_type": "stream",
          "name": "stderr",
          "text": [
            "ERROR:root:Unsuccessful downloading - video 21946\n"
          ]
        },
        {
          "output_type": "stream",
          "name": "stdout",
          "text": [
            "Unsuccessful downloading - video 21946\n",
            "Unsuccessful downloading - video 21946\n"
          ]
        },
        {
          "output_type": "stream",
          "name": "stderr",
          "text": [
            "ERROR:root:Unsuccessful downloading - video 65721\n"
          ]
        },
        {
          "output_type": "stream",
          "name": "stdout",
          "text": [
            "Unsuccessful downloading - video 65721\n",
            "Unsuccessful downloading - video 65721\n"
          ]
        },
        {
          "output_type": "stream",
          "name": "stderr",
          "text": [
            "WARNING:root:Skipping YouTube video 67663\n"
          ]
        },
        {
          "output_type": "stream",
          "name": "stdout",
          "text": [
            "Skipping YouTube video 67663\n",
            "Skipping YouTube video 67663\n"
          ]
        },
        {
          "output_type": "stream",
          "name": "stderr",
          "text": [
            "WARNING:root:Skipping YouTube video 21952\n"
          ]
        },
        {
          "output_type": "stream",
          "name": "stdout",
          "text": [
            "Skipping YouTube video 21952\n",
            "Skipping YouTube video 21952\n"
          ]
        },
        {
          "output_type": "stream",
          "name": "stderr",
          "text": [
            "WARNING:root:Skipping YouTube video 21953\n"
          ]
        },
        {
          "output_type": "stream",
          "name": "stdout",
          "text": [
            "Skipping YouTube video 21953\n",
            "Skipping YouTube video 21953\n"
          ]
        },
        {
          "output_type": "stream",
          "name": "stderr",
          "text": [
            "WARNING:root:Skipping YouTube video 21954\n"
          ]
        },
        {
          "output_type": "stream",
          "name": "stdout",
          "text": [
            "Skipping YouTube video 21954\n",
            "Skipping YouTube video 21954\n"
          ]
        },
        {
          "output_type": "stream",
          "name": "stderr",
          "text": [
            "WARNING:root:Skipping YouTube video 21955\n"
          ]
        },
        {
          "output_type": "stream",
          "name": "stdout",
          "text": [
            "Skipping YouTube video 21955\n",
            "Skipping YouTube video 21955\n"
          ]
        },
        {
          "output_type": "stream",
          "name": "stderr",
          "text": [
            "WARNING:root:Skipping YouTube video 28074\n"
          ]
        },
        {
          "output_type": "stream",
          "name": "stdout",
          "text": [
            "Skipping YouTube video 28074\n",
            "Skipping YouTube video 28074\n"
          ]
        },
        {
          "output_type": "stream",
          "name": "stderr",
          "text": [
            "WARNING:root:Skipping YouTube video 70270\n"
          ]
        },
        {
          "output_type": "stream",
          "name": "stdout",
          "text": [
            "Skipping YouTube video 70270\n",
            "Skipping YouTube video 70270\n"
          ]
        },
        {
          "output_type": "stream",
          "name": "stderr",
          "text": [
            "ERROR:root:Unsuccessful downloading - video 28113\n"
          ]
        },
        {
          "output_type": "stream",
          "name": "stdout",
          "text": [
            "Unsuccessful downloading - video 28113\n",
            "Unsuccessful downloading - video 28113\n"
          ]
        },
        {
          "output_type": "stream",
          "name": "stderr",
          "text": [
            "ERROR:root:Unsuccessful downloading - video 28114\n"
          ]
        },
        {
          "output_type": "stream",
          "name": "stdout",
          "text": [
            "Unsuccessful downloading - video 28114\n",
            "Unsuccessful downloading - video 28114\n"
          ]
        },
        {
          "output_type": "stream",
          "name": "stderr",
          "text": [
            "WARNING:root:Skipping YouTube video 28118\n"
          ]
        },
        {
          "output_type": "stream",
          "name": "stdout",
          "text": [
            "Skipping YouTube video 28118\n",
            "Skipping YouTube video 28118\n"
          ]
        },
        {
          "output_type": "stream",
          "name": "stderr",
          "text": [
            "WARNING:root:Skipping YouTube video 28119\n"
          ]
        },
        {
          "output_type": "stream",
          "name": "stdout",
          "text": [
            "Skipping YouTube video 28119\n",
            "Skipping YouTube video 28119\n"
          ]
        },
        {
          "output_type": "stream",
          "name": "stderr",
          "text": [
            "WARNING:root:Skipping YouTube video 28120\n"
          ]
        },
        {
          "output_type": "stream",
          "name": "stdout",
          "text": [
            "Skipping YouTube video 28120\n",
            "Skipping YouTube video 28120\n"
          ]
        },
        {
          "output_type": "stream",
          "name": "stderr",
          "text": [
            "WARNING:root:Skipping YouTube video 28121\n"
          ]
        },
        {
          "output_type": "stream",
          "name": "stdout",
          "text": [
            "Skipping YouTube video 28121\n",
            "Skipping YouTube video 28121\n"
          ]
        },
        {
          "output_type": "stream",
          "name": "stderr",
          "text": [
            "WARNING:root:Skipping YouTube video 28122\n"
          ]
        },
        {
          "output_type": "stream",
          "name": "stdout",
          "text": [
            "Skipping YouTube video 28122\n",
            "Skipping YouTube video 28122\n"
          ]
        },
        {
          "output_type": "stream",
          "name": "stderr",
          "text": [
            "WARNING:root:Skipping YouTube video 28123\n"
          ]
        },
        {
          "output_type": "stream",
          "name": "stdout",
          "text": [
            "Skipping YouTube video 28123\n",
            "Skipping YouTube video 28123\n"
          ]
        },
        {
          "output_type": "stream",
          "name": "stderr",
          "text": [
            "WARNING:root:Skipping YouTube video 68093\n"
          ]
        },
        {
          "output_type": "stream",
          "name": "stdout",
          "text": [
            "Skipping YouTube video 68093\n",
            "Skipping YouTube video 68093\n"
          ]
        },
        {
          "output_type": "stream",
          "name": "stderr",
          "text": [
            "WARNING:root:Skipping YouTube video 70299\n"
          ]
        },
        {
          "output_type": "stream",
          "name": "stdout",
          "text": [
            "Skipping YouTube video 70299\n",
            "Skipping YouTube video 70299\n"
          ]
        },
        {
          "output_type": "stream",
          "name": "stderr",
          "text": [
            "WARNING:root:Skipping YouTube video 33277\n"
          ]
        },
        {
          "output_type": "stream",
          "name": "stdout",
          "text": [
            "Skipping YouTube video 33277\n",
            "Skipping YouTube video 33277\n"
          ]
        },
        {
          "output_type": "stream",
          "name": "stderr",
          "text": [
            "WARNING:root:Skipping YouTube video 33278\n"
          ]
        },
        {
          "output_type": "stream",
          "name": "stdout",
          "text": [
            "Skipping YouTube video 33278\n",
            "Skipping YouTube video 33278\n"
          ]
        },
        {
          "output_type": "stream",
          "name": "stderr",
          "text": [
            "WARNING:root:Skipping YouTube video 33279\n"
          ]
        },
        {
          "output_type": "stream",
          "name": "stdout",
          "text": [
            "Skipping YouTube video 33279\n",
            "Skipping YouTube video 33279\n"
          ]
        },
        {
          "output_type": "stream",
          "name": "stderr",
          "text": [
            "WARNING:root:Skipping YouTube video 33280\n"
          ]
        },
        {
          "output_type": "stream",
          "name": "stdout",
          "text": [
            "Skipping YouTube video 33280\n",
            "Skipping YouTube video 33280\n"
          ]
        },
        {
          "output_type": "stream",
          "name": "stderr",
          "text": [
            "WARNING:root:Skipping YouTube video 33281\n"
          ]
        },
        {
          "output_type": "stream",
          "name": "stdout",
          "text": [
            "Skipping YouTube video 33281\n",
            "Skipping YouTube video 33281\n"
          ]
        },
        {
          "output_type": "stream",
          "name": "stderr",
          "text": [
            "WARNING:root:Skipping YouTube video 33282\n"
          ]
        },
        {
          "output_type": "stream",
          "name": "stdout",
          "text": [
            "Skipping YouTube video 33282\n",
            "Skipping YouTube video 33282\n"
          ]
        },
        {
          "output_type": "stream",
          "name": "stderr",
          "text": [
            "WARNING:root:Skipping YouTube video 33283\n"
          ]
        },
        {
          "output_type": "stream",
          "name": "stdout",
          "text": [
            "Skipping YouTube video 33283\n",
            "Skipping YouTube video 33283\n"
          ]
        },
        {
          "output_type": "stream",
          "name": "stderr",
          "text": [
            "WARNING:root:Skipping YouTube video 34822\n"
          ]
        },
        {
          "output_type": "stream",
          "name": "stdout",
          "text": [
            "Skipping YouTube video 34822\n",
            "Skipping YouTube video 34822\n"
          ]
        },
        {
          "output_type": "stream",
          "name": "stderr",
          "text": [
            "WARNING:root:Skipping YouTube video 70308\n"
          ]
        },
        {
          "output_type": "stream",
          "name": "stdout",
          "text": [
            "Skipping YouTube video 70308\n",
            "Skipping YouTube video 70308\n"
          ]
        },
        {
          "output_type": "stream",
          "name": "stderr",
          "text": [
            "WARNING:root:Skipping YouTube video 67873\n"
          ]
        },
        {
          "output_type": "stream",
          "name": "stdout",
          "text": [
            "Skipping YouTube video 67873\n",
            "Skipping YouTube video 67873\n"
          ]
        },
        {
          "output_type": "stream",
          "name": "stderr",
          "text": [
            "WARNING:root:Skipping YouTube video 34833\n"
          ]
        },
        {
          "output_type": "stream",
          "name": "stdout",
          "text": [
            "Skipping YouTube video 34833\n",
            "Skipping YouTube video 34833\n"
          ]
        },
        {
          "output_type": "stream",
          "name": "stderr",
          "text": [
            "WARNING:root:Skipping YouTube video 34834\n"
          ]
        },
        {
          "output_type": "stream",
          "name": "stdout",
          "text": [
            "Skipping YouTube video 34834\n",
            "Skipping YouTube video 34834\n"
          ]
        },
        {
          "output_type": "stream",
          "name": "stderr",
          "text": [
            "WARNING:root:Skipping YouTube video 34835\n"
          ]
        },
        {
          "output_type": "stream",
          "name": "stdout",
          "text": [
            "Skipping YouTube video 34835\n",
            "Skipping YouTube video 34835\n"
          ]
        },
        {
          "output_type": "stream",
          "name": "stderr",
          "text": [
            "WARNING:root:Skipping YouTube video 34836\n"
          ]
        },
        {
          "output_type": "stream",
          "name": "stdout",
          "text": [
            "Skipping YouTube video 34836\n",
            "Skipping YouTube video 34836\n"
          ]
        },
        {
          "output_type": "stream",
          "name": "stderr",
          "text": [
            "WARNING:root:Skipping YouTube video 34837\n"
          ]
        },
        {
          "output_type": "stream",
          "name": "stdout",
          "text": [
            "Skipping YouTube video 34837\n",
            "Skipping YouTube video 34837\n"
          ]
        },
        {
          "output_type": "stream",
          "name": "stderr",
          "text": [
            "WARNING:root:Skipping YouTube video 36927\n"
          ]
        },
        {
          "output_type": "stream",
          "name": "stdout",
          "text": [
            "Skipping YouTube video 36927\n",
            "Skipping YouTube video 36927\n"
          ]
        },
        {
          "output_type": "stream",
          "name": "stderr",
          "text": [
            "WARNING:root:Skipping YouTube video 36938\n"
          ]
        },
        {
          "output_type": "stream",
          "name": "stdout",
          "text": [
            "Skipping YouTube video 36938\n",
            "Skipping YouTube video 36938\n"
          ]
        },
        {
          "output_type": "stream",
          "name": "stderr",
          "text": [
            "ERROR:root:Unsuccessful downloading - video 66146\n"
          ]
        },
        {
          "output_type": "stream",
          "name": "stdout",
          "text": [
            "Unsuccessful downloading - video 66146\n",
            "Unsuccessful downloading - video 66146\n"
          ]
        },
        {
          "output_type": "stream",
          "name": "stderr",
          "text": [
            "WARNING:root:Skipping YouTube video 67908\n"
          ]
        },
        {
          "output_type": "stream",
          "name": "stdout",
          "text": [
            "Skipping YouTube video 67908\n",
            "Skipping YouTube video 67908\n"
          ]
        },
        {
          "output_type": "stream",
          "name": "stderr",
          "text": [
            "WARNING:root:Skipping YouTube video 36939\n"
          ]
        },
        {
          "output_type": "stream",
          "name": "stdout",
          "text": [
            "Skipping YouTube video 36939\n",
            "Skipping YouTube video 36939\n"
          ]
        },
        {
          "output_type": "stream",
          "name": "stderr",
          "text": [
            "WARNING:root:Skipping YouTube video 36940\n"
          ]
        },
        {
          "output_type": "stream",
          "name": "stdout",
          "text": [
            "Skipping YouTube video 36940\n",
            "Skipping YouTube video 36940\n"
          ]
        },
        {
          "output_type": "stream",
          "name": "stderr",
          "text": [
            "WARNING:root:Skipping YouTube video 36941\n"
          ]
        },
        {
          "output_type": "stream",
          "name": "stdout",
          "text": [
            "Skipping YouTube video 36941\n",
            "Skipping YouTube video 36941\n"
          ]
        },
        {
          "output_type": "stream",
          "name": "stderr",
          "text": [
            "WARNING:root:Skipping YouTube video 36942\n"
          ]
        },
        {
          "output_type": "stream",
          "name": "stdout",
          "text": [
            "Skipping YouTube video 36942\n",
            "Skipping YouTube video 36942\n"
          ]
        },
        {
          "output_type": "stream",
          "name": "stderr",
          "text": [
            "WARNING:root:Skipping YouTube video 36944\n"
          ]
        },
        {
          "output_type": "stream",
          "name": "stdout",
          "text": [
            "Skipping YouTube video 36944\n",
            "Skipping YouTube video 36944\n"
          ]
        },
        {
          "output_type": "stream",
          "name": "stderr",
          "text": [
            "WARNING:root:Skipping YouTube video 38982\n"
          ]
        },
        {
          "output_type": "stream",
          "name": "stdout",
          "text": [
            "Skipping YouTube video 38982\n",
            "Skipping YouTube video 38982\n"
          ]
        },
        {
          "output_type": "stream",
          "name": "stderr",
          "text": [
            "WARNING:root:Skipping YouTube video 70345\n"
          ]
        },
        {
          "output_type": "stream",
          "name": "stdout",
          "text": [
            "Skipping YouTube video 70345\n",
            "Skipping YouTube video 70345\n"
          ]
        },
        {
          "output_type": "stream",
          "name": "stderr",
          "text": [
            "WARNING:root:Skipping YouTube video 68694\n"
          ]
        },
        {
          "output_type": "stream",
          "name": "stdout",
          "text": [
            "Skipping YouTube video 68694\n",
            "Skipping YouTube video 68694\n"
          ]
        },
        {
          "output_type": "stream",
          "name": "stderr",
          "text": [
            "WARNING:root:Skipping YouTube video 68770\n"
          ]
        },
        {
          "output_type": "stream",
          "name": "stdout",
          "text": [
            "Skipping YouTube video 68770\n",
            "Skipping YouTube video 68770\n"
          ]
        },
        {
          "output_type": "stream",
          "name": "stderr",
          "text": [
            "WARNING:root:Skipping YouTube video 68114\n"
          ]
        },
        {
          "output_type": "stream",
          "name": "stdout",
          "text": [
            "Skipping YouTube video 68114\n",
            "Skipping YouTube video 68114\n"
          ]
        },
        {
          "output_type": "stream",
          "name": "stderr",
          "text": [
            "WARNING:root:Skipping YouTube video 39001\n"
          ]
        },
        {
          "output_type": "stream",
          "name": "stdout",
          "text": [
            "Skipping YouTube video 39001\n",
            "Skipping YouTube video 39001\n"
          ]
        },
        {
          "output_type": "stream",
          "name": "stderr",
          "text": [
            "WARNING:root:Skipping YouTube video 39002\n"
          ]
        },
        {
          "output_type": "stream",
          "name": "stdout",
          "text": [
            "Skipping YouTube video 39002\n",
            "Skipping YouTube video 39002\n"
          ]
        },
        {
          "output_type": "stream",
          "name": "stderr",
          "text": [
            "WARNING:root:Skipping YouTube video 39003\n"
          ]
        },
        {
          "output_type": "stream",
          "name": "stdout",
          "text": [
            "Skipping YouTube video 39003\n",
            "Skipping YouTube video 39003\n"
          ]
        },
        {
          "output_type": "stream",
          "name": "stderr",
          "text": [
            "WARNING:root:Skipping YouTube video 67937\n"
          ]
        },
        {
          "output_type": "stream",
          "name": "stdout",
          "text": [
            "Skipping YouTube video 67937\n",
            "Skipping YouTube video 67937\n"
          ]
        },
        {
          "output_type": "stream",
          "name": "stderr",
          "text": [
            "WARNING:root:Skipping YouTube video 39004\n"
          ]
        },
        {
          "output_type": "stream",
          "name": "stdout",
          "text": [
            "Skipping YouTube video 39004\n",
            "Skipping YouTube video 39004\n"
          ]
        },
        {
          "output_type": "stream",
          "name": "stderr",
          "text": [
            "ERROR:root:Unsuccessful downloading - video 38996\n"
          ]
        },
        {
          "output_type": "stream",
          "name": "stdout",
          "text": [
            "Unsuccessful downloading - video 38996\n",
            "Unsuccessful downloading - video 38996\n"
          ]
        },
        {
          "output_type": "stream",
          "name": "stderr",
          "text": [
            "WARNING:root:Skipping YouTube video 40114\n"
          ]
        },
        {
          "output_type": "stream",
          "name": "stdout",
          "text": [
            "Skipping YouTube video 40114\n",
            "Skipping YouTube video 40114\n"
          ]
        },
        {
          "output_type": "error",
          "ename": "KeyboardInterrupt",
          "evalue": "ignored",
          "traceback": [
            "\u001b[0;31m---------------------------------------------------------------------------\u001b[0m",
            "\u001b[0;31mKeyboardInterrupt\u001b[0m                         Traceback (most recent call last)",
            "\u001b[0;32m<ipython-input-4-4aeac77bdb33>\u001b[0m in \u001b[0;36m<module>\u001b[0;34m\u001b[0m\n\u001b[1;32m    144\u001b[0m \u001b[0;32mif\u001b[0m \u001b[0m__name__\u001b[0m \u001b[0;34m==\u001b[0m \u001b[0;34m'__main__'\u001b[0m\u001b[0;34m:\u001b[0m\u001b[0;34m\u001b[0m\u001b[0;34m\u001b[0m\u001b[0m\n\u001b[1;32m    145\u001b[0m     \u001b[0mlogging\u001b[0m\u001b[0;34m.\u001b[0m\u001b[0minfo\u001b[0m\u001b[0;34m(\u001b[0m\u001b[0;34m'Start downloading non-youtube videos.'\u001b[0m\u001b[0;34m)\u001b[0m\u001b[0;34m\u001b[0m\u001b[0;34m\u001b[0m\u001b[0m\n\u001b[0;32m--> 146\u001b[0;31m     \u001b[0mdownload_nonyt_videos\u001b[0m\u001b[0;34m(\u001b[0m\u001b[0;34m'/content/WLASL/start_kit/WLASL_v0.3.json'\u001b[0m\u001b[0;34m)\u001b[0m\u001b[0;34m\u001b[0m\u001b[0;34m\u001b[0m\u001b[0m\n\u001b[0m\u001b[1;32m    147\u001b[0m \u001b[0;34m\u001b[0m\u001b[0m\n\u001b[1;32m    148\u001b[0m     \u001b[0mcheck_youtube_dl_version\u001b[0m\u001b[0;34m(\u001b[0m\u001b[0;34m)\u001b[0m\u001b[0;34m\u001b[0m\u001b[0;34m\u001b[0m\u001b[0m\n",
            "\u001b[0;32m<ipython-input-4-4aeac77bdb33>\u001b[0m in \u001b[0;36mdownload_nonyt_videos\u001b[0;34m(indexfile, saveto)\u001b[0m\n\u001b[1;32m     95\u001b[0m \u001b[0;34m\u001b[0m\u001b[0m\n\u001b[1;32m     96\u001b[0m             \u001b[0;32mtry\u001b[0m\u001b[0;34m:\u001b[0m\u001b[0;34m\u001b[0m\u001b[0;34m\u001b[0m\u001b[0m\n\u001b[0;32m---> 97\u001b[0;31m                 \u001b[0mdownload_method\u001b[0m\u001b[0;34m(\u001b[0m\u001b[0mvideo_url\u001b[0m\u001b[0;34m,\u001b[0m \u001b[0msaveto\u001b[0m\u001b[0;34m,\u001b[0m \u001b[0mvideo_id\u001b[0m\u001b[0;34m)\u001b[0m\u001b[0;34m\u001b[0m\u001b[0;34m\u001b[0m\u001b[0m\n\u001b[0m\u001b[1;32m     98\u001b[0m             \u001b[0;32mexcept\u001b[0m \u001b[0mException\u001b[0m \u001b[0;32mas\u001b[0m \u001b[0me\u001b[0m\u001b[0;34m:\u001b[0m\u001b[0;34m\u001b[0m\u001b[0;34m\u001b[0m\u001b[0m\n\u001b[1;32m     99\u001b[0m                 \u001b[0mlogging\u001b[0m\u001b[0;34m.\u001b[0m\u001b[0merror\u001b[0m\u001b[0;34m(\u001b[0m\u001b[0;34m'Unsuccessful downloading - video {}'\u001b[0m\u001b[0;34m.\u001b[0m\u001b[0mformat\u001b[0m\u001b[0;34m(\u001b[0m\u001b[0mvideo_id\u001b[0m\u001b[0;34m)\u001b[0m\u001b[0;34m)\u001b[0m\u001b[0;34m\u001b[0m\u001b[0;34m\u001b[0m\u001b[0m\n",
            "\u001b[0;32m<ipython-input-4-4aeac77bdb33>\u001b[0m in \u001b[0;36mdownload_others\u001b[0;34m(url, dirname, video_id)\u001b[0m\n\u001b[1;32m     59\u001b[0m         \u001b[0;32mreturn\u001b[0m\u001b[0;34m\u001b[0m\u001b[0;34m\u001b[0m\u001b[0m\n\u001b[1;32m     60\u001b[0m \u001b[0;34m\u001b[0m\u001b[0m\n\u001b[0;32m---> 61\u001b[0;31m     \u001b[0mdata\u001b[0m \u001b[0;34m=\u001b[0m \u001b[0mrequest_video\u001b[0m\u001b[0;34m(\u001b[0m\u001b[0murl\u001b[0m\u001b[0;34m)\u001b[0m\u001b[0;34m\u001b[0m\u001b[0;34m\u001b[0m\u001b[0m\n\u001b[0m\u001b[1;32m     62\u001b[0m     \u001b[0msave_video\u001b[0m\u001b[0;34m(\u001b[0m\u001b[0mdata\u001b[0m\u001b[0;34m,\u001b[0m \u001b[0msaveto\u001b[0m\u001b[0;34m)\u001b[0m\u001b[0;34m\u001b[0m\u001b[0;34m\u001b[0m\u001b[0m\n\u001b[1;32m     63\u001b[0m \u001b[0;34m\u001b[0m\u001b[0m\n",
            "\u001b[0;32m<ipython-input-4-4aeac77bdb33>\u001b[0m in \u001b[0;36mrequest_video\u001b[0;34m(url, referer)\u001b[0m\n\u001b[1;32m     26\u001b[0m     \u001b[0mlogging\u001b[0m\u001b[0;34m.\u001b[0m\u001b[0minfo\u001b[0m\u001b[0;34m(\u001b[0m\u001b[0;34m'Requesting {}'\u001b[0m\u001b[0;34m.\u001b[0m\u001b[0mformat\u001b[0m\u001b[0;34m(\u001b[0m\u001b[0murl\u001b[0m\u001b[0;34m)\u001b[0m\u001b[0;34m)\u001b[0m\u001b[0;34m\u001b[0m\u001b[0;34m\u001b[0m\u001b[0m\n\u001b[1;32m     27\u001b[0m     \u001b[0mresponse\u001b[0m \u001b[0;34m=\u001b[0m \u001b[0murllib\u001b[0m\u001b[0;34m.\u001b[0m\u001b[0mrequest\u001b[0m\u001b[0;34m.\u001b[0m\u001b[0murlopen\u001b[0m\u001b[0;34m(\u001b[0m\u001b[0mrequest\u001b[0m\u001b[0;34m)\u001b[0m\u001b[0;34m\u001b[0m\u001b[0;34m\u001b[0m\u001b[0m\n\u001b[0;32m---> 28\u001b[0;31m     \u001b[0mdata\u001b[0m \u001b[0;34m=\u001b[0m \u001b[0mresponse\u001b[0m\u001b[0;34m.\u001b[0m\u001b[0mread\u001b[0m\u001b[0;34m(\u001b[0m\u001b[0;34m)\u001b[0m  \u001b[0;31m# The data you need\u001b[0m\u001b[0;34m\u001b[0m\u001b[0;34m\u001b[0m\u001b[0m\n\u001b[0m\u001b[1;32m     29\u001b[0m \u001b[0;34m\u001b[0m\u001b[0m\n\u001b[1;32m     30\u001b[0m     \u001b[0;32mreturn\u001b[0m \u001b[0mdata\u001b[0m\u001b[0;34m\u001b[0m\u001b[0;34m\u001b[0m\u001b[0m\n",
            "\u001b[0;32m/usr/lib/python3.7/http/client.py\u001b[0m in \u001b[0;36mread\u001b[0;34m(self, amt)\u001b[0m\n\u001b[1;32m    476\u001b[0m             \u001b[0;32melse\u001b[0m\u001b[0;34m:\u001b[0m\u001b[0;34m\u001b[0m\u001b[0;34m\u001b[0m\u001b[0m\n\u001b[1;32m    477\u001b[0m                 \u001b[0;32mtry\u001b[0m\u001b[0;34m:\u001b[0m\u001b[0;34m\u001b[0m\u001b[0;34m\u001b[0m\u001b[0m\n\u001b[0;32m--> 478\u001b[0;31m                     \u001b[0ms\u001b[0m \u001b[0;34m=\u001b[0m \u001b[0mself\u001b[0m\u001b[0;34m.\u001b[0m\u001b[0m_safe_read\u001b[0m\u001b[0;34m(\u001b[0m\u001b[0mself\u001b[0m\u001b[0;34m.\u001b[0m\u001b[0mlength\u001b[0m\u001b[0;34m)\u001b[0m\u001b[0;34m\u001b[0m\u001b[0;34m\u001b[0m\u001b[0m\n\u001b[0m\u001b[1;32m    479\u001b[0m                 \u001b[0;32mexcept\u001b[0m \u001b[0mIncompleteRead\u001b[0m\u001b[0;34m:\u001b[0m\u001b[0;34m\u001b[0m\u001b[0;34m\u001b[0m\u001b[0m\n\u001b[1;32m    480\u001b[0m                     \u001b[0mself\u001b[0m\u001b[0;34m.\u001b[0m\u001b[0m_close_conn\u001b[0m\u001b[0;34m(\u001b[0m\u001b[0;34m)\u001b[0m\u001b[0;34m\u001b[0m\u001b[0;34m\u001b[0m\u001b[0m\n",
            "\u001b[0;32m/usr/lib/python3.7/http/client.py\u001b[0m in \u001b[0;36m_safe_read\u001b[0;34m(self, amt)\u001b[0m\n\u001b[1;32m    626\u001b[0m         \u001b[0ms\u001b[0m \u001b[0;34m=\u001b[0m \u001b[0;34m[\u001b[0m\u001b[0;34m]\u001b[0m\u001b[0;34m\u001b[0m\u001b[0;34m\u001b[0m\u001b[0m\n\u001b[1;32m    627\u001b[0m         \u001b[0;32mwhile\u001b[0m \u001b[0mamt\u001b[0m \u001b[0;34m>\u001b[0m \u001b[0;36m0\u001b[0m\u001b[0;34m:\u001b[0m\u001b[0;34m\u001b[0m\u001b[0;34m\u001b[0m\u001b[0m\n\u001b[0;32m--> 628\u001b[0;31m             \u001b[0mchunk\u001b[0m \u001b[0;34m=\u001b[0m \u001b[0mself\u001b[0m\u001b[0;34m.\u001b[0m\u001b[0mfp\u001b[0m\u001b[0;34m.\u001b[0m\u001b[0mread\u001b[0m\u001b[0;34m(\u001b[0m\u001b[0mmin\u001b[0m\u001b[0;34m(\u001b[0m\u001b[0mamt\u001b[0m\u001b[0;34m,\u001b[0m \u001b[0mMAXAMOUNT\u001b[0m\u001b[0;34m)\u001b[0m\u001b[0;34m)\u001b[0m\u001b[0;34m\u001b[0m\u001b[0;34m\u001b[0m\u001b[0m\n\u001b[0m\u001b[1;32m    629\u001b[0m             \u001b[0;32mif\u001b[0m \u001b[0;32mnot\u001b[0m \u001b[0mchunk\u001b[0m\u001b[0;34m:\u001b[0m\u001b[0;34m\u001b[0m\u001b[0;34m\u001b[0m\u001b[0m\n\u001b[1;32m    630\u001b[0m                 \u001b[0;32mraise\u001b[0m \u001b[0mIncompleteRead\u001b[0m\u001b[0;34m(\u001b[0m\u001b[0;34mb''\u001b[0m\u001b[0;34m.\u001b[0m\u001b[0mjoin\u001b[0m\u001b[0;34m(\u001b[0m\u001b[0ms\u001b[0m\u001b[0;34m)\u001b[0m\u001b[0;34m,\u001b[0m \u001b[0mamt\u001b[0m\u001b[0;34m)\u001b[0m\u001b[0;34m\u001b[0m\u001b[0;34m\u001b[0m\u001b[0m\n",
            "\u001b[0;32m/usr/lib/python3.7/socket.py\u001b[0m in \u001b[0;36mreadinto\u001b[0;34m(self, b)\u001b[0m\n\u001b[1;32m    587\u001b[0m         \u001b[0;32mwhile\u001b[0m \u001b[0;32mTrue\u001b[0m\u001b[0;34m:\u001b[0m\u001b[0;34m\u001b[0m\u001b[0;34m\u001b[0m\u001b[0m\n\u001b[1;32m    588\u001b[0m             \u001b[0;32mtry\u001b[0m\u001b[0;34m:\u001b[0m\u001b[0;34m\u001b[0m\u001b[0;34m\u001b[0m\u001b[0m\n\u001b[0;32m--> 589\u001b[0;31m                 \u001b[0;32mreturn\u001b[0m \u001b[0mself\u001b[0m\u001b[0;34m.\u001b[0m\u001b[0m_sock\u001b[0m\u001b[0;34m.\u001b[0m\u001b[0mrecv_into\u001b[0m\u001b[0;34m(\u001b[0m\u001b[0mb\u001b[0m\u001b[0;34m)\u001b[0m\u001b[0;34m\u001b[0m\u001b[0;34m\u001b[0m\u001b[0m\n\u001b[0m\u001b[1;32m    590\u001b[0m             \u001b[0;32mexcept\u001b[0m \u001b[0mtimeout\u001b[0m\u001b[0;34m:\u001b[0m\u001b[0;34m\u001b[0m\u001b[0;34m\u001b[0m\u001b[0m\n\u001b[1;32m    591\u001b[0m                 \u001b[0mself\u001b[0m\u001b[0;34m.\u001b[0m\u001b[0m_timeout_occurred\u001b[0m \u001b[0;34m=\u001b[0m \u001b[0;32mTrue\u001b[0m\u001b[0;34m\u001b[0m\u001b[0;34m\u001b[0m\u001b[0m\n",
            "\u001b[0;31mKeyboardInterrupt\u001b[0m: "
          ]
        }
      ]
    },
    {
      "cell_type": "code",
      "source": [
        "# preprocessing script for WLASL dataset\n",
        "# 1. Convert .swf, .mkv file to mp4.\n",
        "# 2. Extract YouTube frames and create video instances.\n",
        "\n",
        "import os\n",
        "import json\n",
        "import cv2\n",
        "\n",
        "import shutil\n",
        "\n",
        "def convert_everything_to_mp4():\n",
        "    cmd = 'bash /content/WLASL/start_kit/scripts/swf2mp4.sh'\n",
        "\n",
        "    os.system(cmd)\n",
        "\n",
        "\n",
        "def video_to_frames(video_path, size=None):\n",
        "    \"\"\"\n",
        "    video_path -> str, path to video.\n",
        "    size -> (int, int), width, height.\n",
        "    \"\"\"\n",
        "\n",
        "    cap = cv2.VideoCapture(video_path)\n",
        "\n",
        "    frames = []\n",
        "    \n",
        "    while True:\n",
        "        ret, frame = cap.read()\n",
        "    \n",
        "        if ret:\n",
        "            if size:\n",
        "                frame = cv2.resize(frame, size)\n",
        "            frames.append(frame)\n",
        "        else:\n",
        "            break\n",
        "\n",
        "    cap.release()\n",
        "\n",
        "    return frames\n",
        "\n",
        "\n",
        "def convert_frames_to_video(frame_array, path_out, size, fps=25):\n",
        "    out = cv2.VideoWriter(path_out, cv2.VideoWriter_fourcc(*'mp4v'), fps, size)\n",
        "\n",
        "    for i in range(len(frame_array)):\n",
        "        # writing to a image array\n",
        "        out.write(frame_array[i])\n",
        "    out.release()\n",
        "\n",
        "\n",
        "def extract_frame_as_video(src_video_path, start_frame, end_frame):\n",
        "    frames = video_to_frames(src_video_path)\n",
        "\n",
        "    return frames[start_frame: end_frame+1]\n",
        "\n",
        "\n",
        "def extract_all_yt_instances(content):\n",
        "    cnt = 1\n",
        "\n",
        "    if not os.path.exists('videos'):\n",
        "        os.mkdir('videos')\n",
        "\n",
        "    for entry in content:\n",
        "        instances = entry['instances']\n",
        "\n",
        "        for inst in instances:\n",
        "            url = inst['url']\n",
        "            video_id = inst['video_id']\n",
        "\n",
        "            if 'youtube' in url or 'youtu.be' in url:\n",
        "                cnt += 1\n",
        "                \n",
        "                yt_identifier = url[-11:]\n",
        "\n",
        "                src_video_path = os.path.join('raw_videos_mp4', yt_identifier + '.mp4')\n",
        "                dst_video_path = os.path.join('videos', video_id + '.mp4')\n",
        "\n",
        "                if not os.path.exists(src_video_path):\n",
        "                    continue\n",
        "\n",
        "                if os.path.exists(dst_video_path):\n",
        "                    print('{} exists.'.format(dst_video_path))\n",
        "                    continue\n",
        "\n",
        "                # because the JSON file indexes from 1.\n",
        "                start_frame = inst['frame_start'] - 1\n",
        "                end_frame = inst['frame_end'] - 1\n",
        "\n",
        "                if end_frame <= 0:\n",
        "                    shutil.copyfile(src_video_path, dst_video_path)\n",
        "                    continue\n",
        "\n",
        "                selected_frames = extract_frame_as_video(src_video_path, start_frame, end_frame)\n",
        "                \n",
        "                # when OpenCV reads an image, it returns size in (h, w, c)\n",
        "                # when OpenCV creates a writer, it requres size in (w, h).\n",
        "                size = selected_frames[0].shape[:2][::-1]\n",
        "                \n",
        "                convert_frames_to_video(selected_frames, dst_video_path, size)\n",
        "\n",
        "                print(cnt, dst_video_path)\n",
        "            else:\n",
        "                cnt += 1\n",
        "\n",
        "                src_video_path = os.path.join('raw_videos_mp4', video_id + '.mp4')\n",
        "                dst_video_path = os.path.join('videos', video_id + '.mp4')\n",
        "\n",
        "                if os.path.exists(dst_video_path):\n",
        "                    print('{} exists.'.format(dst_video_path))\n",
        "                    continue\n",
        "\n",
        "                if not os.path.exists(src_video_path):\n",
        "                    continue\n",
        "\n",
        "                print(cnt, dst_video_path)\n",
        "                shutil.copyfile(src_video_path, dst_video_path)\n",
        "\n",
        "        \n",
        "def main():\n",
        "    # 1. Convert .swf, .mkv file to mp4.\n",
        "    convert_everything_to_mp4()\n",
        "\n",
        "    content = json.load(open('/content/WLASL/start_kit/WLASL_v0.3.json'))\n",
        "    extract_all_yt_instances(content)\n",
        "\n",
        "\n",
        "if __name__ == \"__main__\":\n",
        "    main()"
      ],
      "metadata": {
        "colab": {
          "base_uri": "https://localhost:8080/"
        },
        "id": "7l8nx_8tXKe2",
        "outputId": "239c64b7-9898-4a93-d279-226a3aead9b6"
      },
      "execution_count": null,
      "outputs": [
        {
          "output_type": "stream",
          "name": "stdout",
          "text": [
            "2 videos/69241.mp4\n",
            "12 videos/07069.mp4\n",
            "19 videos/07068.mp4\n",
            "24 videos/07070.mp4\n",
            "26 videos/07099.mp4\n",
            "31 videos/07074.mp4\n",
            "42 videos/69302.mp4\n",
            "53 videos/17710.mp4\n",
            "58 videos/17733.mp4\n",
            "59 videos/65540.mp4\n",
            "60 videos/17734.mp4\n",
            "61 videos/17711.mp4\n",
            "62 videos/17712.mp4\n",
            "63 videos/17713.mp4\n",
            "69 videos/17709.mp4\n",
            "72 videos/17720.mp4\n",
            "73 videos/17721.mp4\n",
            "74 videos/17722.mp4\n",
            "75 videos/17723.mp4\n",
            "76 videos/17724.mp4\n",
            "80 videos/12328.mp4\n",
            "83 videos/12312.mp4\n",
            "89 videos/12311.mp4\n",
            "91 videos/12338.mp4\n",
            "92 videos/12313.mp4\n",
            "93 videos/12314.mp4\n",
            "94 videos/12315.mp4\n",
            "95 videos/12316.mp4\n",
            "96 videos/12317.mp4\n",
            "97 videos/12318.mp4\n",
            "98 videos/12319.mp4\n",
            "99 videos/12320.mp4\n",
            "105 videos/12326.mp4\n",
            "106 videos/12327.mp4\n",
            "112 videos/05728.mp4\n",
            "115 videos/05749.mp4\n",
            "116 videos/05750.mp4\n",
            "117 videos/05729.mp4\n",
            "118 videos/05730.mp4\n",
            "120 videos/05731.mp4\n",
            "121 videos/05732.mp4\n",
            "122 videos/05733.mp4\n",
            "123 videos/05734.mp4\n",
            "126 videos/05727.mp4\n",
            "128 videos/05739.mp4\n",
            "129 videos/05740.mp4\n",
            "130 videos/05741.mp4\n",
            "131 videos/05742.mp4\n",
            "132 videos/05743.mp4\n",
            "140 videos/09848.mp4\n",
            "142 videos/09869.mp4\n",
            "143 videos/09849.mp4\n",
            "144 videos/09850.mp4\n",
            "145 videos/09851.mp4\n",
            "146 videos/65328.mp4\n",
            "148 videos/09854.mp4\n",
            "160 videos/69345.mp4\n",
            "162 videos/24955.mp4\n",
            "163 videos/24956.mp4\n",
            "164 videos/24941.mp4\n",
            "165 videos/24960.mp4\n",
            "166 videos/24961.mp4\n",
            "167 videos/24962.mp4\n",
            "173 videos/65824.mp4\n",
            "174 videos/24973.mp4\n",
            "175 videos/24943.mp4\n",
            "176 videos/24946.mp4\n",
            "177 videos/24947.mp4\n",
            "178 videos/24948.mp4\n",
            "179 videos/24940.mp4\n",
            "181 videos/24950.mp4\n",
            "182 videos/24951.mp4\n",
            "183 videos/24952.mp4\n",
            "184 videos/24954.mp4\n",
            "190 videos/11310.mp4\n",
            "192 videos/11330.mp4\n",
            "193 videos/11311.mp4\n",
            "195 videos/11313.mp4\n",
            "198 videos/11309.mp4\n",
            "211 videos/69534.mp4\n",
            "217 videos/63242.mp4\n",
            "218 videos/63226.mp4\n",
            "219 videos/63227.mp4\n",
            "220 videos/63228.mp4\n",
            "221 videos/63229.mp4\n",
            "222 videos/63230.mp4\n",
            "223 videos/63231.mp4\n",
            "225 videos/63232.mp4\n",
            "230 videos/63225.mp4\n",
            "232 videos/63236.mp4\n",
            "233 videos/63237.mp4\n",
            "240 videos/08929.mp4\n",
            "241 videos/08916.mp4\n",
            "242 videos/08917.mp4\n",
            "243 videos/08918.mp4\n",
            "244 videos/08919.mp4\n",
            "245 videos/08920.mp4\n",
            "246 videos/08921.mp4\n",
            "249 videos/65298.mp4\n",
            "250 videos/08924.mp4\n",
            "252 videos/65300.mp4\n",
            "253 videos/08915.mp4\n",
            "256 videos/08925.mp4\n",
            "259 videos/65415.mp4\n",
            "262 videos/13647.mp4\n",
            "263 videos/13648.mp4\n",
            "264 videos/13631.mp4\n",
            "265 videos/13632.mp4\n",
            "266 videos/13633.mp4\n",
            "267 videos/13634.mp4\n",
            "268 videos/13635.mp4\n",
            "269 videos/13636.mp4\n",
            "270 videos/13637.mp4\n",
            "271 videos/13638.mp4\n",
            "272 videos/13630.mp4\n",
            "273 videos/13639.mp4\n",
            "275 videos/13640.mp4\n",
            "276 videos/13641.mp4\n",
            "277 videos/13642.mp4\n",
            "281 videos/13646.mp4\n",
            "288 videos/14882.mp4\n",
            "290 videos/14903.mp4\n",
            "291 videos/14883.mp4\n",
            "292 videos/14884.mp4\n",
            "293 videos/14885.mp4\n",
            "294 videos/14886.mp4\n",
            "295 videos/65445.mp4\n",
            "296 videos/14887.mp4\n",
            "297 videos/14888.mp4\n",
            "300 videos/14893.mp4\n",
            "301 videos/14894.mp4\n",
            "312 videos/21870.mp4\n",
            "314 videos/21890.mp4\n",
            "315 videos/21891.mp4\n",
            "316 videos/21871.mp4\n",
            "317 videos/21872.mp4\n",
            "318 videos/21869.mp4\n",
            "319 videos/21874.mp4\n",
            "322 videos/21878.mp4\n",
            "325 videos/21883.mp4\n",
            "328 videos/69364.mp4\n",
            "331 videos/27221.mp4\n",
            "332 videos/27206.mp4\n",
            "333 videos/27207.mp4\n",
            "334 videos/27208.mp4\n",
            "335 videos/27209.mp4\n",
            "339 videos/65890.mp4\n",
            "340 videos/27213.mp4\n",
            "341 videos/27214.mp4\n",
            "342 videos/65891.mp4\n",
            "343 videos/65889.mp4\n",
            "345 videos/27215.mp4\n",
            "346 videos/27216.mp4\n",
            "347 videos/27217.mp4\n",
            "350 videos/69411.mp4\n",
            "357 videos/38525.mp4\n",
            "358 videos/38544.mp4\n",
            "359 videos/38527.mp4\n",
            "360 videos/38529.mp4\n",
            "361 videos/38530.mp4\n",
            "362 videos/38531.mp4\n",
            "363 videos/38532.mp4\n",
            "364 videos/38533.mp4\n",
            "366 videos/38524.mp4\n",
            "368 videos/38534.mp4\n",
            "372 videos/57948.mp4\n",
            "373 videos/57949.mp4\n",
            "376 videos/57934.mp4\n",
            "377 videos/57953.mp4\n",
            "378 videos/57935.mp4\n",
            "379 videos/57936.mp4\n",
            "380 videos/57937.mp4\n",
            "381 videos/66606.mp4\n",
            "382 videos/57939.mp4\n",
            "383 videos/57940.mp4\n",
            "384 videos/57941.mp4\n",
            "385 videos/57942.mp4\n",
            "386 videos/66607.mp4\n",
            "387 videos/57933.mp4\n",
            "389 videos/57943.mp4\n",
            "392 videos/57947.mp4\n",
            "399 videos/62175.mp4\n",
            "400 videos/62159.mp4\n",
            "401 videos/62160.mp4\n",
            "402 videos/62163.mp4\n",
            "403 videos/62164.mp4\n",
            "404 videos/62165.mp4\n",
            "406 videos/62166.mp4\n",
            "408 videos/62158.mp4\n",
            "410 videos/62168.mp4\n",
            "411 videos/62169.mp4\n",
            "412 videos/62170.mp4\n",
            "416 videos/64211.mp4\n",
            "422 videos/64224.mp4\n",
            "423 videos/64210.mp4\n",
            "424 videos/64212.mp4\n",
            "425 videos/66818.mp4\n",
            "426 videos/64213.mp4\n",
            "427 videos/66816.mp4\n",
            "428 videos/64209.mp4\n",
            "433 videos/64219.mp4\n",
            "434 videos/64218.mp4\n",
            "438 videos/69546.mp4\n",
            "439 videos/64287.mp4\n",
            "442 videos/64284.mp4\n",
            "443 videos/64291.mp4\n",
            "444 videos/64292.mp4\n",
            "445 videos/64293.mp4\n",
            "451 videos/64280.mp4\n",
            "454 videos/64300.mp4\n",
            "455 videos/64281.mp4\n",
            "456 videos/64288.mp4\n",
            "458 videos/64283.mp4\n",
            "460 videos/69206.mp4\n",
            "464 videos/02003.mp4\n",
            "465 videos/01987.mp4\n",
            "466 videos/01988.mp4\n",
            "469 videos/01991.mp4\n",
            "470 videos/01992.mp4\n",
            "471 videos/65043.mp4\n",
            "473 videos/01986.mp4\n",
            "481 videos/69236.mp4\n",
            "484 videos/06472.mp4\n",
            "485 videos/06473.mp4\n",
            "486 videos/06474.mp4\n",
            "488 videos/06476.mp4\n",
            "489 videos/06477.mp4\n",
            "490 videos/06478.mp4\n",
            "492 videos/65200.mp4\n",
            "493 videos/06471.mp4\n",
            "500 videos/06486.mp4\n",
            "501 videos/69281.mp4\n",
            "502 videos/65403.mp4\n",
            "504 videos/13213.mp4\n",
            "506 videos/13197.mp4\n",
            "507 videos/13216.mp4\n",
            "508 videos/13217.mp4\n",
            "509 videos/13198.mp4\n",
            "510 videos/13199.mp4\n",
            "511 videos/13200.mp4\n",
            "512 videos/13201.mp4\n",
            "514 videos/13202.mp4\n",
            "515 videos/13203.mp4\n",
            "517 videos/13196.mp4\n",
            "520 videos/13208.mp4\n",
            "521 videos/13209.mp4\n",
            "527 videos/21942.mp4\n",
            "528 videos/21943.mp4\n",
            "529 videos/21944.mp4\n",
            "530 videos/21945.mp4\n",
            "532 videos/21949.mp4\n",
            "533 videos/21950.mp4\n",
            "535 videos/21941.mp4\n",
            "537 videos/21951.mp4\n",
            "544 videos/69368.mp4\n",
            "546 videos/28125.mp4\n",
            "547 videos/28108.mp4\n",
            "548 videos/28109.mp4\n",
            "549 videos/28110.mp4\n",
            "550 videos/28111.mp4\n",
            "551 videos/28112.mp4\n",
            "554 videos/28115.mp4\n",
            "555 videos/28116.mp4\n",
            "556 videos/28107.mp4\n",
            "564 videos/69389.mp4\n",
            "565 videos/33266.mp4\n",
            "568 videos/33285.mp4\n",
            "569 videos/33267.mp4\n",
            "570 videos/33286.mp4\n",
            "571 videos/33268.mp4\n",
            "572 videos/33269.mp4\n",
            "573 videos/33270.mp4\n",
            "574 videos/33271.mp4\n",
            "575 videos/33273.mp4\n",
            "576 videos/33274.mp4\n",
            "586 videos/69396.mp4\n",
            "588 videos/34823.mp4\n",
            "589 videos/34824.mp4\n",
            "590 videos/34825.mp4\n",
            "591 videos/34826.mp4\n",
            "592 videos/34827.mp4\n",
            "593 videos/34828.mp4\n",
            "594 videos/34829.mp4\n",
            "595 videos/34830.mp4\n",
            "596 videos/34831.mp4\n",
            "598 videos/34832.mp4\n",
            "605 videos/34839.mp4\n",
            "607 videos/69402.mp4\n",
            "609 videos/36946.mp4\n",
            "610 videos/36930.mp4\n",
            "611 videos/36931.mp4\n",
            "612 videos/36932.mp4\n",
            "613 videos/36933.mp4\n",
            "614 videos/36934.mp4\n",
            "615 videos/36936.mp4\n",
            "616 videos/36937.mp4\n",
            "618 videos/66147.mp4\n",
            "620 videos/36929.mp4\n",
            "628 videos/69413.mp4\n",
            "629 videos/38994.mp4\n",
            "634 videos/38999.mp4\n",
            "635 videos/39000.mp4\n",
            "639 videos/38990.mp4\n",
            "643 videos/39006.mp4\n",
            "644 videos/38991.mp4\n",
            "645 videos/38995.mp4\n",
            "647 videos/38997.mp4\n"
          ]
        }
      ]
    },
    {
      "cell_type": "code",
      "source": [
        "!mkdir data"
      ],
      "metadata": {
        "id": "9YhQ77A0YOOG"
      },
      "execution_count": null,
      "outputs": []
    },
    {
      "cell_type": "code",
      "source": [
        "!cp WLASL -r data/"
      ],
      "metadata": {
        "id": "OFu5YM0QYXjc"
      },
      "execution_count": null,
      "outputs": []
    }
  ]
}